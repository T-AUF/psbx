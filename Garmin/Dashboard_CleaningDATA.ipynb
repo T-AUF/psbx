{
 "cells": [
  {
   "cell_type": "code",
   "execution_count": 1,
   "id": "41e8f758",
   "metadata": {},
   "outputs": [],
   "source": [
    "import os\n",
    "import glob\n",
    "import pandas as pd\n",
    "import numpy as np\n",
    "import seaborn as sns\n",
    "import matplotlib.pyplot as plt\n",
    "\n",
    "import datetime\n",
    "\n",
    "path = \"C:\\\\Users\\\\9111650T\\\\Documents\\\\Hadoop\\\\Garmin\""
   ]
  },
  {
   "cell_type": "code",
   "execution_count": 2,
   "id": "9f4b45cd",
   "metadata": {
    "scrolled": true
   },
   "outputs": [
    {
     "name": "stdout",
     "output_type": "stream",
     "text": [
      "Activities - Copie.csv\n",
      "Activities.csv\n",
      "Floors Climbed_2019.csv\n",
      "Floors Climbed_2020.csv\n",
      "Floors Climbed_2021.csv\n",
      "Floors.csv\n",
      "running.csv\n",
      "Sleep Time_2019.csv\n",
      "Sleep Time_2020.csv\n",
      "Sleep Time_2021.csv\n",
      "Sleep.csv\n",
      "Steps.csv\n",
      "Steps_2019.csv\n",
      "Steps_2020.csv\n",
      "Steps_2021.csv\n",
      "VO₂ Max.csv\n"
     ]
    }
   ],
   "source": [
    "# display all csv from my folder\n",
    "filenames = glob.glob(path + \"/*.csv\")\n",
    "for file in filenames:\n",
    "    print(os.path.basename(file))"
   ]
  },
  {
   "cell_type": "code",
   "execution_count": 3,
   "id": "9f8bf873",
   "metadata": {},
   "outputs": [],
   "source": [
    "my_floors = [[\"Floors Climbed_2019.csv\", 2019], \n",
    "             [\"Floors Climbed_2020.csv\", 2020], \n",
    "             [\"Floors Climbed_2021.csv\", 2021]\n",
    "            ]\n",
    "\n",
    "my_steps = [[\"Steps_2019.csv\", 2019], \n",
    "            [\"Steps_2020.csv\", 2020], \n",
    "            [\"Steps_2021.csv\", 2021]\n",
    "            ]\n",
    "\n",
    "my_sleeps = [[\"Sleep Time_2019.csv\", 2019], \n",
    "             [\"Sleep Time_2020.csv\", 2020], \n",
    "             [\"Sleep Time_2021.csv\", 2021]\n",
    "            ]"
   ]
  },
  {
   "cell_type": "code",
   "execution_count": 4,
   "id": "40b3acf0",
   "metadata": {},
   "outputs": [],
   "source": [
    "def Add_Year(my_list):\n",
    "    \"\"\"\n",
    "    add year columns for each files\n",
    "    \"\"\"\n",
    "    for ele in my_list:\n",
    "        df = pd.read_csv(ele[0])\n",
    "        df['year'] = ele[1]\n",
    "        df.to_csv(ele[0], index=False)\n",
    "    return df"
   ]
  },
  {
   "cell_type": "code",
   "execution_count": 5,
   "id": "69fa0d13",
   "metadata": {},
   "outputs": [],
   "source": [
    "def Concat_File(file_to_concat, file_name):\n",
    "    \"\"\"\n",
    "    merge all survey csv in a unique file for each activity: floors climbed, steps, sleep\n",
    "    \"\"\"\n",
    "    all_files = glob.glob(os.path.join(path, file_to_concat))\n",
    "    \n",
    "    # merge all Base.csv\n",
    "    df_from_each_file =(pd.read_csv(f) for f in all_files)\n",
    "    df_merged = pd.concat(df_from_each_file, ignore_index=True)\n",
    "    df_merged.to_csv(file_name, index=False)"
   ]
  },
  {
   "cell_type": "code",
   "execution_count": 6,
   "id": "9caac207",
   "metadata": {},
   "outputs": [],
   "source": [
    "def Read_file(filename):\n",
    "    df = pd.read_csv(filename)\n",
    "    return df"
   ]
  },
  {
   "cell_type": "code",
   "execution_count": 7,
   "id": "dd5fde5d",
   "metadata": {},
   "outputs": [],
   "source": [
    "Concat_File(\"Steps_*.csv\", \"Steps.csv\")\n",
    "Concat_File(\"Sleep *.csv\", \"Sleep.csv\")\n",
    "Concat_File(\"Floors *.csv\", \"Floors.csv\")"
   ]
  },
  {
   "cell_type": "code",
   "execution_count": 8,
   "id": "c0b05377",
   "metadata": {},
   "outputs": [],
   "source": [
    "#call my function et put them into a df\n",
    "floors = Add_Year(my_floors)\n",
    "steps = Add_Year(my_steps)\n",
    "sleeps = Add_Year(my_sleeps)"
   ]
  },
  {
   "cell_type": "code",
   "execution_count": null,
   "id": "34c2dea2",
   "metadata": {},
   "outputs": [],
   "source": []
  },
  {
   "cell_type": "code",
   "execution_count": 9,
   "id": "b72054af",
   "metadata": {},
   "outputs": [
    {
     "data": {
      "text/plain": [
       "['Activity Type',\n",
       " 'Date',\n",
       " 'Favorite',\n",
       " 'Title',\n",
       " 'Distance',\n",
       " 'Calories',\n",
       " 'Time',\n",
       " 'Avg HR',\n",
       " 'Max HR',\n",
       " 'Avg Run Cadence',\n",
       " 'Max Run Cadence',\n",
       " 'Avg Pace',\n",
       " 'Best Pace',\n",
       " 'Total Ascent',\n",
       " 'Total Descent',\n",
       " 'Avg Stride Length',\n",
       " 'Avg Vertical Ratio',\n",
       " 'Avg Vertical Oscillation',\n",
       " 'Training Stress Score®',\n",
       " 'Grit',\n",
       " 'Flow',\n",
       " 'Total Reps',\n",
       " 'Total Sets',\n",
       " 'Dive Time',\n",
       " 'Min Temp',\n",
       " 'Surface Interval',\n",
       " 'Decompression',\n",
       " 'Best Lap Time',\n",
       " 'Number of Laps',\n",
       " 'Max Temp',\n",
       " 'Moving Time',\n",
       " 'Elapsed Time',\n",
       " 'Min Elevation',\n",
       " 'Max Elevation']"
      ]
     },
     "execution_count": 9,
     "metadata": {},
     "output_type": "execute_result"
    }
   ],
   "source": [
    "#read activites csv\n",
    "activities = Read_file(\"Activities.csv\")\n",
    "activities.columns.to_list()"
   ]
  },
  {
   "cell_type": "code",
   "execution_count": null,
   "id": "0e34b724",
   "metadata": {},
   "outputs": [],
   "source": []
  },
  {
   "cell_type": "code",
   "execution_count": null,
   "id": "a0900c8f",
   "metadata": {},
   "outputs": [],
   "source": []
  },
  {
   "cell_type": "code",
   "execution_count": null,
   "id": "8f2d1b58",
   "metadata": {},
   "outputs": [],
   "source": []
  },
  {
   "cell_type": "markdown",
   "id": "3bfdd999",
   "metadata": {},
   "source": [
    "## Activities csv : Cleaning data"
   ]
  },
  {
   "cell_type": "code",
   "execution_count": 10,
   "id": "a3b9a7c6",
   "metadata": {},
   "outputs": [],
   "source": [
    "#suppress unuseful columns\n",
    "activities.drop(activities.loc[:, 'Avg Vertical Ratio':'Moving Time'].columns, axis=1, inplace=True)\n",
    "activities.drop([\"Favorite\",\"Total Ascent\",\"Total Descent\", \"Min Elevation\",\n",
    "                 \"Max Elevation\"], axis=1, inplace=True)"
   ]
  },
  {
   "cell_type": "code",
   "execution_count": 11,
   "id": "3169752e",
   "metadata": {},
   "outputs": [
    {
     "name": "stdout",
     "output_type": "stream",
     "text": [
      "<class 'pandas.core.frame.DataFrame'>\n",
      "RangeIndex: 406 entries, 0 to 405\n",
      "Data columns (total 14 columns):\n",
      " #   Column             Non-Null Count  Dtype  \n",
      "---  ------             --------------  -----  \n",
      " 0   Activity Type      406 non-null    object \n",
      " 1   Date               406 non-null    object \n",
      " 2   Title              406 non-null    object \n",
      " 3   Distance           406 non-null    float64\n",
      " 4   Calories           406 non-null    object \n",
      " 5   Time               406 non-null    object \n",
      " 6   Avg HR             406 non-null    int64  \n",
      " 7   Max HR             406 non-null    int64  \n",
      " 8   Avg Run Cadence    406 non-null    object \n",
      " 9   Max Run Cadence    406 non-null    object \n",
      " 10  Avg Pace           406 non-null    object \n",
      " 11  Best Pace          406 non-null    object \n",
      " 12  Avg Stride Length  406 non-null    float64\n",
      " 13  Elapsed Time       406 non-null    object \n",
      "dtypes: float64(2), int64(2), object(10)\n",
      "memory usage: 44.5+ KB\n"
     ]
    }
   ],
   "source": [
    "activities.info()"
   ]
  },
  {
   "cell_type": "code",
   "execution_count": 12,
   "id": "cbdd350b",
   "metadata": {},
   "outputs": [
    {
     "data": {
      "text/html": [
       "<div>\n",
       "<style scoped>\n",
       "    .dataframe tbody tr th:only-of-type {\n",
       "        vertical-align: middle;\n",
       "    }\n",
       "\n",
       "    .dataframe tbody tr th {\n",
       "        vertical-align: top;\n",
       "    }\n",
       "\n",
       "    .dataframe thead th {\n",
       "        text-align: right;\n",
       "    }\n",
       "</style>\n",
       "<table border=\"1\" class=\"dataframe\">\n",
       "  <thead>\n",
       "    <tr style=\"text-align: right;\">\n",
       "      <th></th>\n",
       "      <th>Activity Type</th>\n",
       "      <th>Date</th>\n",
       "      <th>Title</th>\n",
       "      <th>Distance</th>\n",
       "      <th>Calories</th>\n",
       "      <th>Time</th>\n",
       "      <th>Avg HR</th>\n",
       "      <th>Max HR</th>\n",
       "      <th>Avg Run Cadence</th>\n",
       "      <th>Max Run Cadence</th>\n",
       "      <th>Avg Pace</th>\n",
       "      <th>Best Pace</th>\n",
       "      <th>Avg Stride Length</th>\n",
       "      <th>Elapsed Time</th>\n",
       "    </tr>\n",
       "  </thead>\n",
       "  <tbody>\n",
       "    <tr>\n",
       "      <th>0</th>\n",
       "      <td>Running</td>\n",
       "      <td>2021-12-19 10:17:13</td>\n",
       "      <td>Paris Running</td>\n",
       "      <td>8.17</td>\n",
       "      <td>381</td>\n",
       "      <td>00:55:59</td>\n",
       "      <td>149</td>\n",
       "      <td>164</td>\n",
       "      <td>192</td>\n",
       "      <td>206</td>\n",
       "      <td>6:51</td>\n",
       "      <td>5:48</td>\n",
       "      <td>0.76</td>\n",
       "      <td>00:55:59</td>\n",
       "    </tr>\n",
       "    <tr>\n",
       "      <th>1</th>\n",
       "      <td>Running</td>\n",
       "      <td>2021-12-18 09:41:04</td>\n",
       "      <td>Paris Running</td>\n",
       "      <td>9.63</td>\n",
       "      <td>473</td>\n",
       "      <td>01:03:57</td>\n",
       "      <td>159</td>\n",
       "      <td>177</td>\n",
       "      <td>190</td>\n",
       "      <td>198</td>\n",
       "      <td>6:39</td>\n",
       "      <td>5:27</td>\n",
       "      <td>0.79</td>\n",
       "      <td>01:03:57</td>\n",
       "    </tr>\n",
       "    <tr>\n",
       "      <th>2</th>\n",
       "      <td>Running</td>\n",
       "      <td>2021-12-11 09:23:22</td>\n",
       "      <td>Paris Running</td>\n",
       "      <td>7.17</td>\n",
       "      <td>370</td>\n",
       "      <td>00:47:01</td>\n",
       "      <td>163</td>\n",
       "      <td>176</td>\n",
       "      <td>192</td>\n",
       "      <td>200</td>\n",
       "      <td>6:33</td>\n",
       "      <td>5:06</td>\n",
       "      <td>0.79</td>\n",
       "      <td>00:47:01</td>\n",
       "    </tr>\n",
       "    <tr>\n",
       "      <th>3</th>\n",
       "      <td>Running</td>\n",
       "      <td>2021-11-27 09:28:34</td>\n",
       "      <td>Paris Running</td>\n",
       "      <td>9.20</td>\n",
       "      <td>448</td>\n",
       "      <td>00:56:09</td>\n",
       "      <td>165</td>\n",
       "      <td>180</td>\n",
       "      <td>194</td>\n",
       "      <td>206</td>\n",
       "      <td>6:06</td>\n",
       "      <td>5:14</td>\n",
       "      <td>0.85</td>\n",
       "      <td>00:56:09</td>\n",
       "    </tr>\n",
       "    <tr>\n",
       "      <th>4</th>\n",
       "      <td>Running</td>\n",
       "      <td>2021-11-21 10:10:43</td>\n",
       "      <td>Paris Running</td>\n",
       "      <td>8.65</td>\n",
       "      <td>418</td>\n",
       "      <td>00:56:22</td>\n",
       "      <td>156</td>\n",
       "      <td>178</td>\n",
       "      <td>192</td>\n",
       "      <td>206</td>\n",
       "      <td>6:31</td>\n",
       "      <td>5:45</td>\n",
       "      <td>0.80</td>\n",
       "      <td>00:56:37</td>\n",
       "    </tr>\n",
       "  </tbody>\n",
       "</table>\n",
       "</div>"
      ],
      "text/plain": [
       "  Activity Type                 Date          Title  Distance Calories  \\\n",
       "0       Running  2021-12-19 10:17:13  Paris Running      8.17      381   \n",
       "1       Running  2021-12-18 09:41:04  Paris Running      9.63      473   \n",
       "2       Running  2021-12-11 09:23:22  Paris Running      7.17      370   \n",
       "3       Running  2021-11-27 09:28:34  Paris Running      9.20      448   \n",
       "4       Running  2021-11-21 10:10:43  Paris Running      8.65      418   \n",
       "\n",
       "       Time  Avg HR  Max HR Avg Run Cadence Max Run Cadence Avg Pace  \\\n",
       "0  00:55:59     149     164             192             206     6:51   \n",
       "1  01:03:57     159     177             190             198     6:39   \n",
       "2  00:47:01     163     176             192             200     6:33   \n",
       "3  00:56:09     165     180             194             206     6:06   \n",
       "4  00:56:22     156     178             192             206     6:31   \n",
       "\n",
       "  Best Pace  Avg Stride Length Elapsed Time  \n",
       "0      5:48               0.76     00:55:59  \n",
       "1      5:27               0.79     01:03:57  \n",
       "2      5:06               0.79     00:47:01  \n",
       "3      5:14               0.85     00:56:09  \n",
       "4      5:45               0.80     00:56:37  "
      ]
     },
     "execution_count": 12,
     "metadata": {},
     "output_type": "execute_result"
    }
   ],
   "source": [
    "activities.head()"
   ]
  },
  {
   "cell_type": "code",
   "execution_count": 13,
   "id": "6e366c50",
   "metadata": {},
   "outputs": [
    {
     "data": {
      "text/plain": [
       "array(['Running', 'Virtual Running', 'Walking', 'Cycling',\n",
       "       'Strength Training', 'Other', 'Cardio'], dtype=object)"
      ]
     },
     "execution_count": 13,
     "metadata": {},
     "output_type": "execute_result"
    }
   ],
   "source": [
    "activities[\"Activity Type\"].unique()"
   ]
  },
  {
   "cell_type": "code",
   "execution_count": 14,
   "id": "e90d9512",
   "metadata": {},
   "outputs": [],
   "source": [
    "#only keep information of running activity \n",
    "activities.drop(activities[activities[\"Activity Type\"] != \"Running\"].index, inplace=True)\n",
    "activities.drop(activities[activities[\"Distance\"] < 1].index, inplace=True)"
   ]
  },
  {
   "cell_type": "code",
   "execution_count": 15,
   "id": "294f3701",
   "metadata": {},
   "outputs": [
    {
     "data": {
      "text/plain": [
       "array(['Running'], dtype=object)"
      ]
     },
     "execution_count": 15,
     "metadata": {},
     "output_type": "execute_result"
    }
   ],
   "source": [
    "activities[\"Activity Type\"].unique()"
   ]
  },
  {
   "cell_type": "markdown",
   "id": "aaaf0801",
   "metadata": {},
   "source": [
    "### Convert into the correct types"
   ]
  },
  {
   "cell_type": "code",
   "execution_count": 16,
   "id": "2ce9d38e",
   "metadata": {},
   "outputs": [],
   "source": [
    "#Convert col 'Date', 'Avg Pace', 'Best Pace', 'Elapsed Time' into datetime\n",
    "activities[\"Date\"] = pd.to_datetime(activities[\"Date\"])\n",
    "activities[\"Avg Pace\"] = pd.to_datetime(activities[\"Avg Pace\"], format='%M:%S')\n",
    "activities[\"Best Pace\"] = pd.to_datetime(activities[\"Best Pace\"], format='%M:%S')\n",
    "activities[\"Elapsed Time\"] = pd.to_datetime(activities[\"Elapsed Time\"])\n",
    "\n",
    "#create col new_date and hour from Date\n",
    "#activities['new_date'] = activities[\"Date\"].dt.date\n",
    "#activities['hour'] = activities[\"Date\"].dt.time\n",
    "\n",
    "#convert 'Time', 'Avg Pace', 'Best Pace', 'Elapced Time' objects to the number of minutes\n",
    "activities[\"Avg Pace\"] = activities[\"Avg Pace\"].dt.hour*60 + activities[\"Avg Pace\"].dt.minute + activities[\"Avg Pace\"].dt.second/60\n",
    "activities[\"Best Pace\"] = activities[\"Best Pace\"].dt.hour*60 + activities[\"Best Pace\"].dt.minute + activities[\"Best Pace\"].dt.second/60\n",
    "activities[\"Elapsed Time\"] = activities[\"Elapsed Time\"].dt.hour*60 + activities[\"Elapsed Time\"].dt.minute + activities[\"Elapsed Time\"].dt.second/60"
   ]
  },
  {
   "cell_type": "code",
   "execution_count": 17,
   "id": "73b62d9a",
   "metadata": {},
   "outputs": [],
   "source": [
    "activities['activityMinute'] = pd.to_datetime(activities[\"Time\"])\n",
    "activities[\"activityMinute\"] = activities[\"activityMinute\"].dt.hour*60 + activities[\"activityMinute\"].dt.minute + activities[\"activityMinute\"].dt.second/60"
   ]
  },
  {
   "cell_type": "code",
   "execution_count": 18,
   "id": "4e56ec4b",
   "metadata": {},
   "outputs": [],
   "source": [
    "#add 'Avg Speed' and 'Best Speed' columns\n",
    "activities['Avg Speed'] = 60 / activities['Avg Pace']\n",
    "activities['Best Speed'] = 60 / activities['Best Pace']"
   ]
  },
  {
   "cell_type": "code",
   "execution_count": 19,
   "id": "742a4fa5",
   "metadata": {},
   "outputs": [
    {
     "name": "stdout",
     "output_type": "stream",
     "text": [
      "<class 'pandas.core.frame.DataFrame'>\n",
      "Int64Index: 236 entries, 0 to 401\n",
      "Data columns (total 17 columns):\n",
      " #   Column             Non-Null Count  Dtype         \n",
      "---  ------             --------------  -----         \n",
      " 0   Activity Type      236 non-null    object        \n",
      " 1   Date               236 non-null    datetime64[ns]\n",
      " 2   Title              236 non-null    object        \n",
      " 3   Distance           236 non-null    float64       \n",
      " 4   Calories           236 non-null    object        \n",
      " 5   Time               236 non-null    object        \n",
      " 6   Avg HR             236 non-null    int64         \n",
      " 7   Max HR             236 non-null    int64         \n",
      " 8   Avg Run Cadence    236 non-null    object        \n",
      " 9   Max Run Cadence    236 non-null    object        \n",
      " 10  Avg Pace           236 non-null    float64       \n",
      " 11  Best Pace          236 non-null    float64       \n",
      " 12  Avg Stride Length  236 non-null    float64       \n",
      " 13  Elapsed Time       236 non-null    float64       \n",
      " 14  activityMinute     236 non-null    float64       \n",
      " 15  Avg Speed          236 non-null    float64       \n",
      " 16  Best Speed         236 non-null    float64       \n",
      "dtypes: datetime64[ns](1), float64(8), int64(2), object(6)\n",
      "memory usage: 33.2+ KB\n"
     ]
    }
   ],
   "source": [
    "activities.info()"
   ]
  },
  {
   "cell_type": "code",
   "execution_count": 20,
   "id": "132e3016",
   "metadata": {},
   "outputs": [],
   "source": [
    "activities.drop([\"Activity Type\"], axis=1, inplace=True)\n"
   ]
  },
  {
   "cell_type": "code",
   "execution_count": 21,
   "id": "030b5cfc",
   "metadata": {},
   "outputs": [],
   "source": [
    "activities[\"activityYear\"] = activities.Date.dt.year\n",
    "activities[\"activityMonth\"] = activities.Date.dt.month\n",
    "activities[\"activityDay\"] = activities.Date.dt.dayofweek\n",
    "\n",
    "activities[\"activityMonthName\"] = activities.activityMonth.map({1:\"January\", \n",
    "                                                                2:\"February\", \n",
    "                                                                3:\"March\", \n",
    "                                                                4:\"April\",\n",
    "                                                                5:\"May\", \n",
    "                                                                6:\"June\", \n",
    "                                                                7:\"July\", \n",
    "                                                                8:\"August\", \n",
    "                                                                9:\"September\", \n",
    "                                                                10:\"October\", \n",
    "                                                                11:\"November\", \n",
    "                                                                12:\"December\"})\n",
    "\n",
    "activities[\"activityDayName\"] = activities.activityDay.map({0:\"Monday\", \n",
    "                                                            1:\"Tuesday\", \n",
    "                                                            2:\"Wednesday\", \n",
    "                                                            3:\"Thursday\",\n",
    "                                                            4:\"Friday\", \n",
    "                                                            5:\"Saturday\", \n",
    "                                                            6:\"Sunday\"})                                                          "
   ]
  },
  {
   "cell_type": "raw",
   "id": "ea764786",
   "metadata": {},
   "source": [
    "#create 2 columns : date and hour\n",
    "activities['new_date'] = activities[\"Date\"].dt.date\n",
    "activities['hour'] = activities[\"Date\"].dt.time\n",
    "activities['year'] = activities['Date'].dt.year\n",
    "activities[\"month\"] = activities['Date'].dt.month"
   ]
  },
  {
   "cell_type": "raw",
   "id": "f149d4e9",
   "metadata": {},
   "source": [
    "activities['month'] = activities['Date'].dt.month.astype(str).apply(lambda x : x.zfill(2))"
   ]
  },
  {
   "cell_type": "code",
   "execution_count": 22,
   "id": "69b7a1b7",
   "metadata": {},
   "outputs": [
    {
     "data": {
      "text/html": [
       "<div>\n",
       "<style scoped>\n",
       "    .dataframe tbody tr th:only-of-type {\n",
       "        vertical-align: middle;\n",
       "    }\n",
       "\n",
       "    .dataframe tbody tr th {\n",
       "        vertical-align: top;\n",
       "    }\n",
       "\n",
       "    .dataframe thead th {\n",
       "        text-align: right;\n",
       "    }\n",
       "</style>\n",
       "<table border=\"1\" class=\"dataframe\">\n",
       "  <thead>\n",
       "    <tr style=\"text-align: right;\">\n",
       "      <th></th>\n",
       "      <th>Date</th>\n",
       "      <th>Title</th>\n",
       "      <th>Distance</th>\n",
       "      <th>Calories</th>\n",
       "      <th>Time</th>\n",
       "      <th>Avg HR</th>\n",
       "      <th>Max HR</th>\n",
       "      <th>Avg Run Cadence</th>\n",
       "      <th>Max Run Cadence</th>\n",
       "      <th>Avg Pace</th>\n",
       "      <th>...</th>\n",
       "      <th>Avg Stride Length</th>\n",
       "      <th>Elapsed Time</th>\n",
       "      <th>activityMinute</th>\n",
       "      <th>Avg Speed</th>\n",
       "      <th>Best Speed</th>\n",
       "      <th>activityYear</th>\n",
       "      <th>activityMonth</th>\n",
       "      <th>activityDay</th>\n",
       "      <th>activityMonthName</th>\n",
       "      <th>activityDayName</th>\n",
       "    </tr>\n",
       "  </thead>\n",
       "  <tbody>\n",
       "    <tr>\n",
       "      <th>0</th>\n",
       "      <td>2021-12-19 10:17:13</td>\n",
       "      <td>Paris Running</td>\n",
       "      <td>8.17</td>\n",
       "      <td>381</td>\n",
       "      <td>00:55:59</td>\n",
       "      <td>149</td>\n",
       "      <td>164</td>\n",
       "      <td>192</td>\n",
       "      <td>206</td>\n",
       "      <td>6.850000</td>\n",
       "      <td>...</td>\n",
       "      <td>0.76</td>\n",
       "      <td>55.983333</td>\n",
       "      <td>55.983333</td>\n",
       "      <td>8.759124</td>\n",
       "      <td>10.344828</td>\n",
       "      <td>2021</td>\n",
       "      <td>12</td>\n",
       "      <td>6</td>\n",
       "      <td>December</td>\n",
       "      <td>Sunday</td>\n",
       "    </tr>\n",
       "    <tr>\n",
       "      <th>1</th>\n",
       "      <td>2021-12-18 09:41:04</td>\n",
       "      <td>Paris Running</td>\n",
       "      <td>9.63</td>\n",
       "      <td>473</td>\n",
       "      <td>01:03:57</td>\n",
       "      <td>159</td>\n",
       "      <td>177</td>\n",
       "      <td>190</td>\n",
       "      <td>198</td>\n",
       "      <td>6.650000</td>\n",
       "      <td>...</td>\n",
       "      <td>0.79</td>\n",
       "      <td>63.950000</td>\n",
       "      <td>63.950000</td>\n",
       "      <td>9.022556</td>\n",
       "      <td>11.009174</td>\n",
       "      <td>2021</td>\n",
       "      <td>12</td>\n",
       "      <td>5</td>\n",
       "      <td>December</td>\n",
       "      <td>Saturday</td>\n",
       "    </tr>\n",
       "    <tr>\n",
       "      <th>2</th>\n",
       "      <td>2021-12-11 09:23:22</td>\n",
       "      <td>Paris Running</td>\n",
       "      <td>7.17</td>\n",
       "      <td>370</td>\n",
       "      <td>00:47:01</td>\n",
       "      <td>163</td>\n",
       "      <td>176</td>\n",
       "      <td>192</td>\n",
       "      <td>200</td>\n",
       "      <td>6.550000</td>\n",
       "      <td>...</td>\n",
       "      <td>0.79</td>\n",
       "      <td>47.016667</td>\n",
       "      <td>47.016667</td>\n",
       "      <td>9.160305</td>\n",
       "      <td>11.764706</td>\n",
       "      <td>2021</td>\n",
       "      <td>12</td>\n",
       "      <td>5</td>\n",
       "      <td>December</td>\n",
       "      <td>Saturday</td>\n",
       "    </tr>\n",
       "    <tr>\n",
       "      <th>3</th>\n",
       "      <td>2021-11-27 09:28:34</td>\n",
       "      <td>Paris Running</td>\n",
       "      <td>9.20</td>\n",
       "      <td>448</td>\n",
       "      <td>00:56:09</td>\n",
       "      <td>165</td>\n",
       "      <td>180</td>\n",
       "      <td>194</td>\n",
       "      <td>206</td>\n",
       "      <td>6.100000</td>\n",
       "      <td>...</td>\n",
       "      <td>0.85</td>\n",
       "      <td>56.150000</td>\n",
       "      <td>56.150000</td>\n",
       "      <td>9.836066</td>\n",
       "      <td>11.464968</td>\n",
       "      <td>2021</td>\n",
       "      <td>11</td>\n",
       "      <td>5</td>\n",
       "      <td>November</td>\n",
       "      <td>Saturday</td>\n",
       "    </tr>\n",
       "    <tr>\n",
       "      <th>4</th>\n",
       "      <td>2021-11-21 10:10:43</td>\n",
       "      <td>Paris Running</td>\n",
       "      <td>8.65</td>\n",
       "      <td>418</td>\n",
       "      <td>00:56:22</td>\n",
       "      <td>156</td>\n",
       "      <td>178</td>\n",
       "      <td>192</td>\n",
       "      <td>206</td>\n",
       "      <td>6.516667</td>\n",
       "      <td>...</td>\n",
       "      <td>0.80</td>\n",
       "      <td>56.616667</td>\n",
       "      <td>56.366667</td>\n",
       "      <td>9.207161</td>\n",
       "      <td>10.434783</td>\n",
       "      <td>2021</td>\n",
       "      <td>11</td>\n",
       "      <td>6</td>\n",
       "      <td>November</td>\n",
       "      <td>Sunday</td>\n",
       "    </tr>\n",
       "  </tbody>\n",
       "</table>\n",
       "<p>5 rows × 21 columns</p>\n",
       "</div>"
      ],
      "text/plain": [
       "                 Date          Title  Distance Calories      Time  Avg HR  \\\n",
       "0 2021-12-19 10:17:13  Paris Running      8.17      381  00:55:59     149   \n",
       "1 2021-12-18 09:41:04  Paris Running      9.63      473  01:03:57     159   \n",
       "2 2021-12-11 09:23:22  Paris Running      7.17      370  00:47:01     163   \n",
       "3 2021-11-27 09:28:34  Paris Running      9.20      448  00:56:09     165   \n",
       "4 2021-11-21 10:10:43  Paris Running      8.65      418  00:56:22     156   \n",
       "\n",
       "   Max HR Avg Run Cadence Max Run Cadence  Avg Pace  ...  Avg Stride Length  \\\n",
       "0     164             192             206  6.850000  ...               0.76   \n",
       "1     177             190             198  6.650000  ...               0.79   \n",
       "2     176             192             200  6.550000  ...               0.79   \n",
       "3     180             194             206  6.100000  ...               0.85   \n",
       "4     178             192             206  6.516667  ...               0.80   \n",
       "\n",
       "   Elapsed Time  activityMinute  Avg Speed  Best Speed  activityYear  \\\n",
       "0     55.983333       55.983333   8.759124   10.344828          2021   \n",
       "1     63.950000       63.950000   9.022556   11.009174          2021   \n",
       "2     47.016667       47.016667   9.160305   11.764706          2021   \n",
       "3     56.150000       56.150000   9.836066   11.464968          2021   \n",
       "4     56.616667       56.366667   9.207161   10.434783          2021   \n",
       "\n",
       "   activityMonth  activityDay  activityMonthName activityDayName  \n",
       "0             12            6           December          Sunday  \n",
       "1             12            5           December        Saturday  \n",
       "2             12            5           December        Saturday  \n",
       "3             11            5           November        Saturday  \n",
       "4             11            6           November          Sunday  \n",
       "\n",
       "[5 rows x 21 columns]"
      ]
     },
     "execution_count": 22,
     "metadata": {},
     "output_type": "execute_result"
    }
   ],
   "source": [
    "activities.head()"
   ]
  },
  {
   "cell_type": "code",
   "execution_count": 23,
   "id": "8ee7df5a",
   "metadata": {
    "scrolled": true
   },
   "outputs": [
    {
     "data": {
      "text/plain": [
       "array(['Paris Running', 'Grimaud Running', 'Deauville Running',\n",
       "       'Benerville-sur-Mer Running', 'Tourgéville Running', 'Running',\n",
       "       'La Garde-Freinet Running', 'Pantin Running', 'Versailles Running',\n",
       "       'Paris - Running'], dtype=object)"
      ]
     },
     "execution_count": 23,
     "metadata": {},
     "output_type": "execute_result"
    }
   ],
   "source": [
    "activities[\"Title\"].unique()"
   ]
  },
  {
   "cell_type": "code",
   "execution_count": 24,
   "id": "6780a54b",
   "metadata": {},
   "outputs": [],
   "source": [
    "#convert calories into int\n",
    "activities[\"Calories\"] = activities[\"Calories\"].astype(float)\n",
    "activities[\"Avg Run Cadence\"] = activities[\"Avg Run Cadence\"].astype(float)\n",
    "activities[\"Max Run Cadence\"] = activities[\"Max Run Cadence\"].astype(float)\n",
    "\n",
    "activities[\"activityYear\"] = activities[\"activityYear\"].astype(str)"
   ]
  },
  {
   "cell_type": "raw",
   "id": "ba1612ef",
   "metadata": {},
   "source": [
    "#calcut Time (hour) into minutes\n",
    "activities[\"activity_time\"] = activities[\"Time\"].apply(lambda x: int(x[:2])*60 + int(x[3:5]))"
   ]
  },
  {
   "cell_type": "markdown",
   "id": "539e8ab5",
   "metadata": {},
   "source": [
    "### dataviz"
   ]
  },
  {
   "cell_type": "code",
   "execution_count": 25,
   "id": "1f43a8e5",
   "metadata": {},
   "outputs": [
    {
     "data": {
      "text/html": [
       "<div>\n",
       "<style scoped>\n",
       "    .dataframe tbody tr th:only-of-type {\n",
       "        vertical-align: middle;\n",
       "    }\n",
       "\n",
       "    .dataframe tbody tr th {\n",
       "        vertical-align: top;\n",
       "    }\n",
       "\n",
       "    .dataframe thead th {\n",
       "        text-align: right;\n",
       "    }\n",
       "</style>\n",
       "<table border=\"1\" class=\"dataframe\">\n",
       "  <thead>\n",
       "    <tr style=\"text-align: right;\">\n",
       "      <th></th>\n",
       "      <th>Distance</th>\n",
       "      <th>Calories</th>\n",
       "      <th>Avg HR</th>\n",
       "      <th>Max HR</th>\n",
       "      <th>Avg Run Cadence</th>\n",
       "      <th>Max Run Cadence</th>\n",
       "      <th>Avg Pace</th>\n",
       "      <th>Best Pace</th>\n",
       "      <th>Avg Stride Length</th>\n",
       "      <th>Elapsed Time</th>\n",
       "      <th>activityMinute</th>\n",
       "      <th>Avg Speed</th>\n",
       "      <th>Best Speed</th>\n",
       "      <th>activityMonth</th>\n",
       "      <th>activityDay</th>\n",
       "    </tr>\n",
       "  </thead>\n",
       "  <tbody>\n",
       "    <tr>\n",
       "      <th>count</th>\n",
       "      <td>236.000000</td>\n",
       "      <td>236.000000</td>\n",
       "      <td>236.000000</td>\n",
       "      <td>236.000000</td>\n",
       "      <td>236.000000</td>\n",
       "      <td>236.000000</td>\n",
       "      <td>236.000000</td>\n",
       "      <td>236.000000</td>\n",
       "      <td>236.000000</td>\n",
       "      <td>236.000000</td>\n",
       "      <td>236.000000</td>\n",
       "      <td>236.000000</td>\n",
       "      <td>236.000000</td>\n",
       "      <td>236.000000</td>\n",
       "      <td>236.000000</td>\n",
       "    </tr>\n",
       "    <tr>\n",
       "      <th>mean</th>\n",
       "      <td>9.558602</td>\n",
       "      <td>456.733051</td>\n",
       "      <td>162.567797</td>\n",
       "      <td>179.326271</td>\n",
       "      <td>185.686441</td>\n",
       "      <td>199.025424</td>\n",
       "      <td>6.420975</td>\n",
       "      <td>5.029379</td>\n",
       "      <td>0.845720</td>\n",
       "      <td>61.597175</td>\n",
       "      <td>61.464972</td>\n",
       "      <td>9.417421</td>\n",
       "      <td>12.404737</td>\n",
       "      <td>5.983051</td>\n",
       "      <td>3.699153</td>\n",
       "    </tr>\n",
       "    <tr>\n",
       "      <th>std</th>\n",
       "      <td>4.041577</td>\n",
       "      <td>185.801772</td>\n",
       "      <td>8.234312</td>\n",
       "      <td>7.875055</td>\n",
       "      <td>5.145044</td>\n",
       "      <td>10.140260</td>\n",
       "      <td>0.553071</td>\n",
       "      <td>0.819093</td>\n",
       "      <td>0.086796</td>\n",
       "      <td>27.030690</td>\n",
       "      <td>27.027993</td>\n",
       "      <td>0.862206</td>\n",
       "      <td>3.550264</td>\n",
       "      <td>3.534590</td>\n",
       "      <td>1.954417</td>\n",
       "    </tr>\n",
       "    <tr>\n",
       "      <th>min</th>\n",
       "      <td>1.780000</td>\n",
       "      <td>81.000000</td>\n",
       "      <td>138.000000</td>\n",
       "      <td>151.000000</td>\n",
       "      <td>166.000000</td>\n",
       "      <td>182.000000</td>\n",
       "      <td>4.333333</td>\n",
       "      <td>1.100000</td>\n",
       "      <td>0.680000</td>\n",
       "      <td>12.466667</td>\n",
       "      <td>12.466667</td>\n",
       "      <td>7.438017</td>\n",
       "      <td>8.910891</td>\n",
       "      <td>1.000000</td>\n",
       "      <td>0.000000</td>\n",
       "    </tr>\n",
       "    <tr>\n",
       "      <th>25%</th>\n",
       "      <td>7.055000</td>\n",
       "      <td>332.000000</td>\n",
       "      <td>157.000000</td>\n",
       "      <td>174.000000</td>\n",
       "      <td>182.000000</td>\n",
       "      <td>192.000000</td>\n",
       "      <td>6.133333</td>\n",
       "      <td>4.633333</td>\n",
       "      <td>0.790000</td>\n",
       "      <td>45.608333</td>\n",
       "      <td>45.129167</td>\n",
       "      <td>8.845209</td>\n",
       "      <td>10.650888</td>\n",
       "      <td>3.000000</td>\n",
       "      <td>2.000000</td>\n",
       "    </tr>\n",
       "    <tr>\n",
       "      <th>50%</th>\n",
       "      <td>9.055000</td>\n",
       "      <td>434.000000</td>\n",
       "      <td>163.000000</td>\n",
       "      <td>180.000000</td>\n",
       "      <td>186.000000</td>\n",
       "      <td>198.000000</td>\n",
       "      <td>6.441667</td>\n",
       "      <td>5.166667</td>\n",
       "      <td>0.830000</td>\n",
       "      <td>58.391667</td>\n",
       "      <td>57.908333</td>\n",
       "      <td>9.314375</td>\n",
       "      <td>11.612903</td>\n",
       "      <td>5.000000</td>\n",
       "      <td>4.000000</td>\n",
       "    </tr>\n",
       "    <tr>\n",
       "      <th>75%</th>\n",
       "      <td>11.162500</td>\n",
       "      <td>534.250000</td>\n",
       "      <td>169.000000</td>\n",
       "      <td>185.000000</td>\n",
       "      <td>190.000000</td>\n",
       "      <td>202.000000</td>\n",
       "      <td>6.783333</td>\n",
       "      <td>5.633333</td>\n",
       "      <td>0.880000</td>\n",
       "      <td>69.879167</td>\n",
       "      <td>69.441667</td>\n",
       "      <td>9.782609</td>\n",
       "      <td>12.949640</td>\n",
       "      <td>9.000000</td>\n",
       "      <td>6.000000</td>\n",
       "    </tr>\n",
       "    <tr>\n",
       "      <th>max</th>\n",
       "      <td>21.780000</td>\n",
       "      <td>995.000000</td>\n",
       "      <td>181.000000</td>\n",
       "      <td>201.000000</td>\n",
       "      <td>196.000000</td>\n",
       "      <td>244.000000</td>\n",
       "      <td>8.066667</td>\n",
       "      <td>6.733333</td>\n",
       "      <td>1.320000</td>\n",
       "      <td>137.116667</td>\n",
       "      <td>137.116667</td>\n",
       "      <td>13.846154</td>\n",
       "      <td>54.545455</td>\n",
       "      <td>12.000000</td>\n",
       "      <td>6.000000</td>\n",
       "    </tr>\n",
       "  </tbody>\n",
       "</table>\n",
       "</div>"
      ],
      "text/plain": [
       "         Distance    Calories      Avg HR      Max HR  Avg Run Cadence  \\\n",
       "count  236.000000  236.000000  236.000000  236.000000       236.000000   \n",
       "mean     9.558602  456.733051  162.567797  179.326271       185.686441   \n",
       "std      4.041577  185.801772    8.234312    7.875055         5.145044   \n",
       "min      1.780000   81.000000  138.000000  151.000000       166.000000   \n",
       "25%      7.055000  332.000000  157.000000  174.000000       182.000000   \n",
       "50%      9.055000  434.000000  163.000000  180.000000       186.000000   \n",
       "75%     11.162500  534.250000  169.000000  185.000000       190.000000   \n",
       "max     21.780000  995.000000  181.000000  201.000000       196.000000   \n",
       "\n",
       "       Max Run Cadence    Avg Pace   Best Pace  Avg Stride Length  \\\n",
       "count       236.000000  236.000000  236.000000         236.000000   \n",
       "mean        199.025424    6.420975    5.029379           0.845720   \n",
       "std          10.140260    0.553071    0.819093           0.086796   \n",
       "min         182.000000    4.333333    1.100000           0.680000   \n",
       "25%         192.000000    6.133333    4.633333           0.790000   \n",
       "50%         198.000000    6.441667    5.166667           0.830000   \n",
       "75%         202.000000    6.783333    5.633333           0.880000   \n",
       "max         244.000000    8.066667    6.733333           1.320000   \n",
       "\n",
       "       Elapsed Time  activityMinute   Avg Speed  Best Speed  activityMonth  \\\n",
       "count    236.000000      236.000000  236.000000  236.000000     236.000000   \n",
       "mean      61.597175       61.464972    9.417421   12.404737       5.983051   \n",
       "std       27.030690       27.027993    0.862206    3.550264       3.534590   \n",
       "min       12.466667       12.466667    7.438017    8.910891       1.000000   \n",
       "25%       45.608333       45.129167    8.845209   10.650888       3.000000   \n",
       "50%       58.391667       57.908333    9.314375   11.612903       5.000000   \n",
       "75%       69.879167       69.441667    9.782609   12.949640       9.000000   \n",
       "max      137.116667      137.116667   13.846154   54.545455      12.000000   \n",
       "\n",
       "       activityDay  \n",
       "count   236.000000  \n",
       "mean      3.699153  \n",
       "std       1.954417  \n",
       "min       0.000000  \n",
       "25%       2.000000  \n",
       "50%       4.000000  \n",
       "75%       6.000000  \n",
       "max       6.000000  "
      ]
     },
     "execution_count": 25,
     "metadata": {},
     "output_type": "execute_result"
    }
   ],
   "source": [
    "activities.describe()"
   ]
  },
  {
   "cell_type": "code",
   "execution_count": 26,
   "id": "4631949b",
   "metadata": {},
   "outputs": [
    {
     "data": {
      "text/plain": [
       "1.78"
      ]
     },
     "execution_count": 26,
     "metadata": {},
     "output_type": "execute_result"
    }
   ],
   "source": [
    "#df with max et min values\n",
    "max_min = activities[\"Distance\"].min()\n",
    "max_min"
   ]
  },
  {
   "cell_type": "code",
   "execution_count": 27,
   "id": "fb38199d",
   "metadata": {},
   "outputs": [
    {
     "data": {
      "text/plain": [
       "'Paris Running'"
      ]
     },
     "execution_count": 27,
     "metadata": {},
     "output_type": "execute_result"
    }
   ],
   "source": [
    "activities.loc[activities[\"Distance\"].idxmin()][\"Title\"]"
   ]
  },
  {
   "cell_type": "code",
   "execution_count": 28,
   "id": "78202dc6",
   "metadata": {},
   "outputs": [
    {
     "data": {
      "text/html": [
       "<div>\n",
       "<style scoped>\n",
       "    .dataframe tbody tr th:only-of-type {\n",
       "        vertical-align: middle;\n",
       "    }\n",
       "\n",
       "    .dataframe tbody tr th {\n",
       "        vertical-align: top;\n",
       "    }\n",
       "\n",
       "    .dataframe thead th {\n",
       "        text-align: right;\n",
       "    }\n",
       "</style>\n",
       "<table border=\"1\" class=\"dataframe\">\n",
       "  <thead>\n",
       "    <tr style=\"text-align: right;\">\n",
       "      <th></th>\n",
       "      <th>Date</th>\n",
       "      <th>Title</th>\n",
       "      <th>Distance</th>\n",
       "      <th>Calories</th>\n",
       "      <th>Time</th>\n",
       "      <th>Avg HR</th>\n",
       "      <th>Max HR</th>\n",
       "      <th>Avg Run Cadence</th>\n",
       "      <th>Max Run Cadence</th>\n",
       "      <th>Avg Pace</th>\n",
       "      <th>...</th>\n",
       "      <th>Avg Stride Length</th>\n",
       "      <th>Elapsed Time</th>\n",
       "      <th>activityMinute</th>\n",
       "      <th>Avg Speed</th>\n",
       "      <th>Best Speed</th>\n",
       "      <th>activityYear</th>\n",
       "      <th>activityMonth</th>\n",
       "      <th>activityDay</th>\n",
       "      <th>activityMonthName</th>\n",
       "      <th>activityDayName</th>\n",
       "    </tr>\n",
       "  </thead>\n",
       "  <tbody>\n",
       "    <tr>\n",
       "      <th>0</th>\n",
       "      <td>2021-12-19 10:17:13</td>\n",
       "      <td>Paris Running</td>\n",
       "      <td>8.17</td>\n",
       "      <td>381.0</td>\n",
       "      <td>00:55:59</td>\n",
       "      <td>149</td>\n",
       "      <td>164</td>\n",
       "      <td>192.0</td>\n",
       "      <td>206.0</td>\n",
       "      <td>6.850000</td>\n",
       "      <td>...</td>\n",
       "      <td>0.76</td>\n",
       "      <td>55.983333</td>\n",
       "      <td>55.983333</td>\n",
       "      <td>8.759124</td>\n",
       "      <td>10.344828</td>\n",
       "      <td>2021</td>\n",
       "      <td>12</td>\n",
       "      <td>6</td>\n",
       "      <td>December</td>\n",
       "      <td>Sunday</td>\n",
       "    </tr>\n",
       "    <tr>\n",
       "      <th>1</th>\n",
       "      <td>2021-12-18 09:41:04</td>\n",
       "      <td>Paris Running</td>\n",
       "      <td>9.63</td>\n",
       "      <td>473.0</td>\n",
       "      <td>01:03:57</td>\n",
       "      <td>159</td>\n",
       "      <td>177</td>\n",
       "      <td>190.0</td>\n",
       "      <td>198.0</td>\n",
       "      <td>6.650000</td>\n",
       "      <td>...</td>\n",
       "      <td>0.79</td>\n",
       "      <td>63.950000</td>\n",
       "      <td>63.950000</td>\n",
       "      <td>9.022556</td>\n",
       "      <td>11.009174</td>\n",
       "      <td>2021</td>\n",
       "      <td>12</td>\n",
       "      <td>5</td>\n",
       "      <td>December</td>\n",
       "      <td>Saturday</td>\n",
       "    </tr>\n",
       "    <tr>\n",
       "      <th>2</th>\n",
       "      <td>2021-12-11 09:23:22</td>\n",
       "      <td>Paris Running</td>\n",
       "      <td>7.17</td>\n",
       "      <td>370.0</td>\n",
       "      <td>00:47:01</td>\n",
       "      <td>163</td>\n",
       "      <td>176</td>\n",
       "      <td>192.0</td>\n",
       "      <td>200.0</td>\n",
       "      <td>6.550000</td>\n",
       "      <td>...</td>\n",
       "      <td>0.79</td>\n",
       "      <td>47.016667</td>\n",
       "      <td>47.016667</td>\n",
       "      <td>9.160305</td>\n",
       "      <td>11.764706</td>\n",
       "      <td>2021</td>\n",
       "      <td>12</td>\n",
       "      <td>5</td>\n",
       "      <td>December</td>\n",
       "      <td>Saturday</td>\n",
       "    </tr>\n",
       "    <tr>\n",
       "      <th>3</th>\n",
       "      <td>2021-11-27 09:28:34</td>\n",
       "      <td>Paris Running</td>\n",
       "      <td>9.20</td>\n",
       "      <td>448.0</td>\n",
       "      <td>00:56:09</td>\n",
       "      <td>165</td>\n",
       "      <td>180</td>\n",
       "      <td>194.0</td>\n",
       "      <td>206.0</td>\n",
       "      <td>6.100000</td>\n",
       "      <td>...</td>\n",
       "      <td>0.85</td>\n",
       "      <td>56.150000</td>\n",
       "      <td>56.150000</td>\n",
       "      <td>9.836066</td>\n",
       "      <td>11.464968</td>\n",
       "      <td>2021</td>\n",
       "      <td>11</td>\n",
       "      <td>5</td>\n",
       "      <td>November</td>\n",
       "      <td>Saturday</td>\n",
       "    </tr>\n",
       "    <tr>\n",
       "      <th>4</th>\n",
       "      <td>2021-11-21 10:10:43</td>\n",
       "      <td>Paris Running</td>\n",
       "      <td>8.65</td>\n",
       "      <td>418.0</td>\n",
       "      <td>00:56:22</td>\n",
       "      <td>156</td>\n",
       "      <td>178</td>\n",
       "      <td>192.0</td>\n",
       "      <td>206.0</td>\n",
       "      <td>6.516667</td>\n",
       "      <td>...</td>\n",
       "      <td>0.80</td>\n",
       "      <td>56.616667</td>\n",
       "      <td>56.366667</td>\n",
       "      <td>9.207161</td>\n",
       "      <td>10.434783</td>\n",
       "      <td>2021</td>\n",
       "      <td>11</td>\n",
       "      <td>6</td>\n",
       "      <td>November</td>\n",
       "      <td>Sunday</td>\n",
       "    </tr>\n",
       "  </tbody>\n",
       "</table>\n",
       "<p>5 rows × 21 columns</p>\n",
       "</div>"
      ],
      "text/plain": [
       "                 Date          Title  Distance  Calories      Time  Avg HR  \\\n",
       "0 2021-12-19 10:17:13  Paris Running      8.17     381.0  00:55:59     149   \n",
       "1 2021-12-18 09:41:04  Paris Running      9.63     473.0  01:03:57     159   \n",
       "2 2021-12-11 09:23:22  Paris Running      7.17     370.0  00:47:01     163   \n",
       "3 2021-11-27 09:28:34  Paris Running      9.20     448.0  00:56:09     165   \n",
       "4 2021-11-21 10:10:43  Paris Running      8.65     418.0  00:56:22     156   \n",
       "\n",
       "   Max HR  Avg Run Cadence  Max Run Cadence  Avg Pace  ...  Avg Stride Length  \\\n",
       "0     164            192.0            206.0  6.850000  ...               0.76   \n",
       "1     177            190.0            198.0  6.650000  ...               0.79   \n",
       "2     176            192.0            200.0  6.550000  ...               0.79   \n",
       "3     180            194.0            206.0  6.100000  ...               0.85   \n",
       "4     178            192.0            206.0  6.516667  ...               0.80   \n",
       "\n",
       "   Elapsed Time  activityMinute  Avg Speed  Best Speed  activityYear  \\\n",
       "0     55.983333       55.983333   8.759124   10.344828          2021   \n",
       "1     63.950000       63.950000   9.022556   11.009174          2021   \n",
       "2     47.016667       47.016667   9.160305   11.764706          2021   \n",
       "3     56.150000       56.150000   9.836066   11.464968          2021   \n",
       "4     56.616667       56.366667   9.207161   10.434783          2021   \n",
       "\n",
       "  activityMonth  activityDay  activityMonthName activityDayName  \n",
       "0            12            6           December          Sunday  \n",
       "1            12            5           December        Saturday  \n",
       "2            12            5           December        Saturday  \n",
       "3            11            5           November        Saturday  \n",
       "4            11            6           November          Sunday  \n",
       "\n",
       "[5 rows x 21 columns]"
      ]
     },
     "execution_count": 28,
     "metadata": {},
     "output_type": "execute_result"
    }
   ],
   "source": [
    "activities.head()"
   ]
  },
  {
   "cell_type": "code",
   "execution_count": 29,
   "id": "0f958429",
   "metadata": {},
   "outputs": [
    {
     "data": {
      "text/plain": [
       "['Paris Running',\n",
       " 'Grimaud Running',\n",
       " 'Deauville Running',\n",
       " 'Benerville-sur-Mer Running',\n",
       " 'Tourgéville Running',\n",
       " 'Running',\n",
       " 'La Garde-Freinet Running',\n",
       " 'Pantin Running',\n",
       " 'Versailles Running',\n",
       " 'Paris - Running']"
      ]
     },
     "execution_count": 29,
     "metadata": {},
     "output_type": "execute_result"
    }
   ],
   "source": [
    "activities.Title.unique().tolist()"
   ]
  },
  {
   "cell_type": "code",
   "execution_count": 30,
   "id": "3a8803a4",
   "metadata": {},
   "outputs": [],
   "source": [
    "activities[\"city\"] = activities[\"Title\"]"
   ]
  },
  {
   "cell_type": "code",
   "execution_count": 31,
   "id": "64e50edb",
   "metadata": {},
   "outputs": [],
   "source": [
    "activities[\"city\"].replace({'Running' : 'Paris',\n",
    "                            'Paris - Running' : 'Paris',\n",
    "                            'Paris Running' : 'Paris',\n",
    "                            'Pantin Running' :  'Paris',\n",
    "                            'Deauville Running' : 'Paris',\n",
    "                            'Versailles Running' : 'Versailles',\n",
    "                            'La Garde-Freinet Running' : 'La Garde-Freinet',\n",
    "                            'Tourgéville Running' : 'Tourgéville',\n",
    "                            'Grimaud Running': 'Grimaud',\n",
    "                            'Benerville-sur-Mer Running' : 'Benerville-sur-Mer'\n",
    "                           }, inplace=True)"
   ]
  },
  {
   "cell_type": "raw",
   "id": "d55244a4",
   "metadata": {},
   "source": [
    "#lat / LON: \n",
    "coordonnees = [\n",
    "                ['Paris' , 48.8534, 2.3488],\n",
    "                ['Versailles' , 48.8, 2.1333],\n",
    "                ['La Garde-Freinet' , 43.3167, 6.4667],\n",
    "                ['Tourgéville' , 49.3167, 0.0667],\n",
    "                ['Grimaud' , 43.2667, 6.5167],\n",
    "                ['Benerville-sur-Mer' , 49.35, 0.0333"
   ]
  },
  {
   "cell_type": "code",
   "execution_count": 32,
   "id": "cee064af",
   "metadata": {},
   "outputs": [],
   "source": [
    "activities[\"lat\"] = activities[\"city\"]\n",
    "activities[\"lon\"] = activities[\"city\"]"
   ]
  },
  {
   "cell_type": "code",
   "execution_count": 33,
   "id": "b0806939",
   "metadata": {},
   "outputs": [],
   "source": [
    "activities[\"lat\"].replace({'Paris' : 48.8534,\n",
    "                            'Versailles' : 48.8,\n",
    "                            'La Garde-Freinet' : 43.3167,\n",
    "                            'Tourgéville' : 49.3167,\n",
    "                            'Grimaud' : 43.2667,\n",
    "                            'Benerville-sur-Mer' : 49.35\n",
    "                           }, inplace=True)"
   ]
  },
  {
   "cell_type": "code",
   "execution_count": 34,
   "id": "e1d88967",
   "metadata": {},
   "outputs": [],
   "source": [
    "activities[\"lon\"].replace({'Paris' : 2.3488,\n",
    "                            'Versailles' : 2.133,\n",
    "                            'La Garde-Freinet' : 6.4667,\n",
    "                            'Tourgéville' : 0.0667,\n",
    "                            'Grimaud' :  6.5167,\n",
    "                            'Benerville-sur-Mer' : 0.0333\n",
    "                           }, inplace=True)"
   ]
  },
  {
   "cell_type": "code",
   "execution_count": 35,
   "id": "cc51b198",
   "metadata": {},
   "outputs": [],
   "source": [
    "activities.to_csv(\"running.csv\", index=False)"
   ]
  },
  {
   "cell_type": "code",
   "execution_count": null,
   "id": "a078aa74",
   "metadata": {},
   "outputs": [],
   "source": []
  },
  {
   "cell_type": "code",
   "execution_count": 36,
   "id": "e9650116",
   "metadata": {},
   "outputs": [
    {
     "data": {
      "text/html": [
       "<div>\n",
       "<style scoped>\n",
       "    .dataframe tbody tr th:only-of-type {\n",
       "        vertical-align: middle;\n",
       "    }\n",
       "\n",
       "    .dataframe tbody tr th {\n",
       "        vertical-align: top;\n",
       "    }\n",
       "\n",
       "    .dataframe thead th {\n",
       "        text-align: right;\n",
       "    }\n",
       "</style>\n",
       "<table border=\"1\" class=\"dataframe\">\n",
       "  <thead>\n",
       "    <tr style=\"text-align: right;\">\n",
       "      <th></th>\n",
       "      <th>Distance</th>\n",
       "      <th>Calories</th>\n",
       "      <th>Avg HR</th>\n",
       "      <th>Max HR</th>\n",
       "      <th>Avg Run Cadence</th>\n",
       "      <th>Max Run Cadence</th>\n",
       "      <th>Avg Pace</th>\n",
       "      <th>Best Pace</th>\n",
       "      <th>Avg Stride Length</th>\n",
       "      <th>Elapsed Time</th>\n",
       "      <th>activityMinute</th>\n",
       "      <th>Avg Speed</th>\n",
       "      <th>Best Speed</th>\n",
       "      <th>activityMonth</th>\n",
       "      <th>activityDay</th>\n",
       "      <th>lat</th>\n",
       "      <th>lon</th>\n",
       "    </tr>\n",
       "  </thead>\n",
       "  <tbody>\n",
       "    <tr>\n",
       "      <th>count</th>\n",
       "      <td>236.000000</td>\n",
       "      <td>236.000000</td>\n",
       "      <td>236.000000</td>\n",
       "      <td>236.000000</td>\n",
       "      <td>236.000000</td>\n",
       "      <td>236.000000</td>\n",
       "      <td>236.000000</td>\n",
       "      <td>236.000000</td>\n",
       "      <td>236.000000</td>\n",
       "      <td>236.000000</td>\n",
       "      <td>236.000000</td>\n",
       "      <td>236.000000</td>\n",
       "      <td>236.000000</td>\n",
       "      <td>236.000000</td>\n",
       "      <td>236.000000</td>\n",
       "      <td>236.000000</td>\n",
       "      <td>236.000000</td>\n",
       "    </tr>\n",
       "    <tr>\n",
       "      <th>mean</th>\n",
       "      <td>9.558602</td>\n",
       "      <td>456.733051</td>\n",
       "      <td>162.567797</td>\n",
       "      <td>179.326271</td>\n",
       "      <td>185.686441</td>\n",
       "      <td>199.025424</td>\n",
       "      <td>6.420975</td>\n",
       "      <td>5.029379</td>\n",
       "      <td>0.845720</td>\n",
       "      <td>61.597175</td>\n",
       "      <td>61.464972</td>\n",
       "      <td>9.417421</td>\n",
       "      <td>12.404737</td>\n",
       "      <td>5.983051</td>\n",
       "      <td>3.699153</td>\n",
       "      <td>48.550347</td>\n",
       "      <td>2.557144</td>\n",
       "    </tr>\n",
       "    <tr>\n",
       "      <th>std</th>\n",
       "      <td>4.041577</td>\n",
       "      <td>185.801772</td>\n",
       "      <td>8.234312</td>\n",
       "      <td>7.875055</td>\n",
       "      <td>5.145044</td>\n",
       "      <td>10.140260</td>\n",
       "      <td>0.553071</td>\n",
       "      <td>0.819093</td>\n",
       "      <td>0.086796</td>\n",
       "      <td>27.030690</td>\n",
       "      <td>27.027993</td>\n",
       "      <td>0.862206</td>\n",
       "      <td>3.550264</td>\n",
       "      <td>3.534590</td>\n",
       "      <td>1.954417</td>\n",
       "      <td>1.275482</td>\n",
       "      <td>0.977498</td>\n",
       "    </tr>\n",
       "    <tr>\n",
       "      <th>min</th>\n",
       "      <td>1.780000</td>\n",
       "      <td>81.000000</td>\n",
       "      <td>138.000000</td>\n",
       "      <td>151.000000</td>\n",
       "      <td>166.000000</td>\n",
       "      <td>182.000000</td>\n",
       "      <td>4.333333</td>\n",
       "      <td>1.100000</td>\n",
       "      <td>0.680000</td>\n",
       "      <td>12.466667</td>\n",
       "      <td>12.466667</td>\n",
       "      <td>7.438017</td>\n",
       "      <td>8.910891</td>\n",
       "      <td>1.000000</td>\n",
       "      <td>0.000000</td>\n",
       "      <td>43.266700</td>\n",
       "      <td>0.033300</td>\n",
       "    </tr>\n",
       "    <tr>\n",
       "      <th>25%</th>\n",
       "      <td>7.055000</td>\n",
       "      <td>332.000000</td>\n",
       "      <td>157.000000</td>\n",
       "      <td>174.000000</td>\n",
       "      <td>182.000000</td>\n",
       "      <td>192.000000</td>\n",
       "      <td>6.133333</td>\n",
       "      <td>4.633333</td>\n",
       "      <td>0.790000</td>\n",
       "      <td>45.608333</td>\n",
       "      <td>45.129167</td>\n",
       "      <td>8.845209</td>\n",
       "      <td>10.650888</td>\n",
       "      <td>3.000000</td>\n",
       "      <td>2.000000</td>\n",
       "      <td>48.853400</td>\n",
       "      <td>2.348800</td>\n",
       "    </tr>\n",
       "    <tr>\n",
       "      <th>50%</th>\n",
       "      <td>9.055000</td>\n",
       "      <td>434.000000</td>\n",
       "      <td>163.000000</td>\n",
       "      <td>180.000000</td>\n",
       "      <td>186.000000</td>\n",
       "      <td>198.000000</td>\n",
       "      <td>6.441667</td>\n",
       "      <td>5.166667</td>\n",
       "      <td>0.830000</td>\n",
       "      <td>58.391667</td>\n",
       "      <td>57.908333</td>\n",
       "      <td>9.314375</td>\n",
       "      <td>11.612903</td>\n",
       "      <td>5.000000</td>\n",
       "      <td>4.000000</td>\n",
       "      <td>48.853400</td>\n",
       "      <td>2.348800</td>\n",
       "    </tr>\n",
       "    <tr>\n",
       "      <th>75%</th>\n",
       "      <td>11.162500</td>\n",
       "      <td>534.250000</td>\n",
       "      <td>169.000000</td>\n",
       "      <td>185.000000</td>\n",
       "      <td>190.000000</td>\n",
       "      <td>202.000000</td>\n",
       "      <td>6.783333</td>\n",
       "      <td>5.633333</td>\n",
       "      <td>0.880000</td>\n",
       "      <td>69.879167</td>\n",
       "      <td>69.441667</td>\n",
       "      <td>9.782609</td>\n",
       "      <td>12.949640</td>\n",
       "      <td>9.000000</td>\n",
       "      <td>6.000000</td>\n",
       "      <td>48.853400</td>\n",
       "      <td>2.348800</td>\n",
       "    </tr>\n",
       "    <tr>\n",
       "      <th>max</th>\n",
       "      <td>21.780000</td>\n",
       "      <td>995.000000</td>\n",
       "      <td>181.000000</td>\n",
       "      <td>201.000000</td>\n",
       "      <td>196.000000</td>\n",
       "      <td>244.000000</td>\n",
       "      <td>8.066667</td>\n",
       "      <td>6.733333</td>\n",
       "      <td>1.320000</td>\n",
       "      <td>137.116667</td>\n",
       "      <td>137.116667</td>\n",
       "      <td>13.846154</td>\n",
       "      <td>54.545455</td>\n",
       "      <td>12.000000</td>\n",
       "      <td>6.000000</td>\n",
       "      <td>49.350000</td>\n",
       "      <td>6.516700</td>\n",
       "    </tr>\n",
       "  </tbody>\n",
       "</table>\n",
       "</div>"
      ],
      "text/plain": [
       "         Distance    Calories      Avg HR      Max HR  Avg Run Cadence  \\\n",
       "count  236.000000  236.000000  236.000000  236.000000       236.000000   \n",
       "mean     9.558602  456.733051  162.567797  179.326271       185.686441   \n",
       "std      4.041577  185.801772    8.234312    7.875055         5.145044   \n",
       "min      1.780000   81.000000  138.000000  151.000000       166.000000   \n",
       "25%      7.055000  332.000000  157.000000  174.000000       182.000000   \n",
       "50%      9.055000  434.000000  163.000000  180.000000       186.000000   \n",
       "75%     11.162500  534.250000  169.000000  185.000000       190.000000   \n",
       "max     21.780000  995.000000  181.000000  201.000000       196.000000   \n",
       "\n",
       "       Max Run Cadence    Avg Pace   Best Pace  Avg Stride Length  \\\n",
       "count       236.000000  236.000000  236.000000         236.000000   \n",
       "mean        199.025424    6.420975    5.029379           0.845720   \n",
       "std          10.140260    0.553071    0.819093           0.086796   \n",
       "min         182.000000    4.333333    1.100000           0.680000   \n",
       "25%         192.000000    6.133333    4.633333           0.790000   \n",
       "50%         198.000000    6.441667    5.166667           0.830000   \n",
       "75%         202.000000    6.783333    5.633333           0.880000   \n",
       "max         244.000000    8.066667    6.733333           1.320000   \n",
       "\n",
       "       Elapsed Time  activityMinute   Avg Speed  Best Speed  activityMonth  \\\n",
       "count    236.000000      236.000000  236.000000  236.000000     236.000000   \n",
       "mean      61.597175       61.464972    9.417421   12.404737       5.983051   \n",
       "std       27.030690       27.027993    0.862206    3.550264       3.534590   \n",
       "min       12.466667       12.466667    7.438017    8.910891       1.000000   \n",
       "25%       45.608333       45.129167    8.845209   10.650888       3.000000   \n",
       "50%       58.391667       57.908333    9.314375   11.612903       5.000000   \n",
       "75%       69.879167       69.441667    9.782609   12.949640       9.000000   \n",
       "max      137.116667      137.116667   13.846154   54.545455      12.000000   \n",
       "\n",
       "       activityDay         lat         lon  \n",
       "count   236.000000  236.000000  236.000000  \n",
       "mean      3.699153   48.550347    2.557144  \n",
       "std       1.954417    1.275482    0.977498  \n",
       "min       0.000000   43.266700    0.033300  \n",
       "25%       2.000000   48.853400    2.348800  \n",
       "50%       4.000000   48.853400    2.348800  \n",
       "75%       6.000000   48.853400    2.348800  \n",
       "max       6.000000   49.350000    6.516700  "
      ]
     },
     "execution_count": 36,
     "metadata": {},
     "output_type": "execute_result"
    }
   ],
   "source": [
    "activities.describe()"
   ]
  },
  {
   "cell_type": "code",
   "execution_count": 37,
   "id": "d1f6e3a1",
   "metadata": {},
   "outputs": [
    {
     "name": "stdout",
     "output_type": "stream",
     "text": [
      "<class 'pandas.core.frame.DataFrame'>\n",
      "Int64Index: 236 entries, 0 to 401\n",
      "Data columns (total 24 columns):\n",
      " #   Column             Non-Null Count  Dtype         \n",
      "---  ------             --------------  -----         \n",
      " 0   Date               236 non-null    datetime64[ns]\n",
      " 1   Title              236 non-null    object        \n",
      " 2   Distance           236 non-null    float64       \n",
      " 3   Calories           236 non-null    float64       \n",
      " 4   Time               236 non-null    object        \n",
      " 5   Avg HR             236 non-null    int64         \n",
      " 6   Max HR             236 non-null    int64         \n",
      " 7   Avg Run Cadence    236 non-null    float64       \n",
      " 8   Max Run Cadence    236 non-null    float64       \n",
      " 9   Avg Pace           236 non-null    float64       \n",
      " 10  Best Pace          236 non-null    float64       \n",
      " 11  Avg Stride Length  236 non-null    float64       \n",
      " 12  Elapsed Time       236 non-null    float64       \n",
      " 13  activityMinute     236 non-null    float64       \n",
      " 14  Avg Speed          236 non-null    float64       \n",
      " 15  Best Speed         236 non-null    float64       \n",
      " 16  activityYear       236 non-null    object        \n",
      " 17  activityMonth      236 non-null    int64         \n",
      " 18  activityDay        236 non-null    int64         \n",
      " 19  activityMonthName  236 non-null    object        \n",
      " 20  activityDayName    236 non-null    object        \n",
      " 21  city               236 non-null    object        \n",
      " 22  lat                236 non-null    float64       \n",
      " 23  lon                236 non-null    float64       \n",
      "dtypes: datetime64[ns](1), float64(13), int64(4), object(6)\n",
      "memory usage: 54.2+ KB\n"
     ]
    }
   ],
   "source": [
    "activities.info()"
   ]
  },
  {
   "cell_type": "code",
   "execution_count": 38,
   "id": "dce03fbe",
   "metadata": {},
   "outputs": [
    {
     "data": {
      "text/plain": [
       "Text(0.5, 1.0, 'Triangle Correlation Heatmap')"
      ]
     },
     "execution_count": 38,
     "metadata": {},
     "output_type": "execute_result"
    },
    {
     "data": {
      "image/png": "[encoded data removed]",
      "text/plain": [
       "<Figure size 1152x432 with 2 Axes>"
      ]
     },
     "metadata": {
      "needs_background": "light"
     },
     "output_type": "display_data"
    }
   ],
   "source": [
    "# https://medium.com/@szabo.bibor/how-to-create-a-seaborn-correlation-heatmap-in-python-834c0686b88e\n",
    "\n",
    "plt.figure(figsize=(16, 6))\n",
    "# define the mask to set the values in the upper triangle to True\n",
    "mask = np.triu(np.ones_like(activities.corr(), dtype=bool))\n",
    "heatmap = sns.heatmap(activities.corr(), mask=mask, vmin=-1, vmax=1, annot=True, cmap='BrBG')\n",
    "heatmap.set_title('Triangle Correlation Heatmap', fontdict={'fontsize':18}, pad=16)"
   ]
  },
  {
   "cell_type": "code",
   "execution_count": 39,
   "id": "9be02257",
   "metadata": {},
   "outputs": [
    {
     "data": {
      "image/png": "[encoded data removed]",
      "text/plain": [
       "<Figure size 576x864 with 2 Axes>"
      ]
     },
     "metadata": {
      "needs_background": "light"
     },
     "output_type": "display_data"
    }
   ],
   "source": [
    "plt.figure(figsize=(8, 12))\n",
    "heatmap = sns.heatmap(activities.corr()[['Distance']].sort_values(by='Distance', ascending=False), vmin=-1, vmax=1, annot=True, cmap='BrBG')\n",
    "heatmap.set_title('Features Correlating Distance', fontdict={'fontsize':18}, pad=16);"
   ]
  },
  {
   "cell_type": "code",
   "execution_count": 40,
   "id": "8a713edd",
   "metadata": {},
   "outputs": [
    {
     "data": {
      "text/html": [
       "<div>\n",
       "<style scoped>\n",
       "    .dataframe tbody tr th:only-of-type {\n",
       "        vertical-align: middle;\n",
       "    }\n",
       "\n",
       "    .dataframe tbody tr th {\n",
       "        vertical-align: top;\n",
       "    }\n",
       "\n",
       "    .dataframe thead th {\n",
       "        text-align: right;\n",
       "    }\n",
       "</style>\n",
       "<table border=\"1\" class=\"dataframe\">\n",
       "  <thead>\n",
       "    <tr style=\"text-align: right;\">\n",
       "      <th></th>\n",
       "      <th>lat</th>\n",
       "      <th>lon</th>\n",
       "    </tr>\n",
       "  </thead>\n",
       "  <tbody>\n",
       "    <tr>\n",
       "      <th>0</th>\n",
       "      <td>48.8534</td>\n",
       "      <td>2.3488</td>\n",
       "    </tr>\n",
       "    <tr>\n",
       "      <th>1</th>\n",
       "      <td>48.8534</td>\n",
       "      <td>2.3488</td>\n",
       "    </tr>\n",
       "    <tr>\n",
       "      <th>2</th>\n",
       "      <td>48.8534</td>\n",
       "      <td>2.3488</td>\n",
       "    </tr>\n",
       "    <tr>\n",
       "      <th>3</th>\n",
       "      <td>48.8534</td>\n",
       "      <td>2.3488</td>\n",
       "    </tr>\n",
       "    <tr>\n",
       "      <th>4</th>\n",
       "      <td>48.8534</td>\n",
       "      <td>2.3488</td>\n",
       "    </tr>\n",
       "  </tbody>\n",
       "</table>\n",
       "</div>"
      ],
      "text/plain": [
       "       lat     lon\n",
       "0  48.8534  2.3488\n",
       "1  48.8534  2.3488\n",
       "2  48.8534  2.3488\n",
       "3  48.8534  2.3488\n",
       "4  48.8534  2.3488"
      ]
     },
     "execution_count": 40,
     "metadata": {},
     "output_type": "execute_result"
    }
   ],
   "source": [
    "f = pd.DataFrame(data=zip(activities.lat.tolist(), activities.lon.tolist()),columns=['lat', 'lon'])\n",
    "f.head()"
   ]
  },
  {
   "cell_type": "code",
   "execution_count": null,
   "id": "93f9c014",
   "metadata": {},
   "outputs": [],
   "source": [
    "\n"
   ]
  },
  {
   "cell_type": "code",
   "execution_count": null,
   "id": "db681ff7",
   "metadata": {},
   "outputs": [],
   "source": []
  },
  {
   "cell_type": "code",
   "execution_count": 41,
   "id": "1387b0b8",
   "metadata": {},
   "outputs": [],
   "source": [
    "import seaborn as sns\n",
    "import matplotlib.pyplot as plt"
   ]
  },
  {
   "cell_type": "code",
   "execution_count": 42,
   "id": "8ebef25c",
   "metadata": {},
   "outputs": [
    {
     "data": {
      "text/plain": [
       "[Text(0.5, 1.0, 'Average HR repartition')]"
      ]
     },
     "execution_count": 42,
     "metadata": {},
     "output_type": "execute_result"
    },
    {
     "data": {
      "image/png": "[encoded data removed]",
      "text/plain": [
       "<Figure size 1008x432 with 1 Axes>"
      ]
     },
     "metadata": {
      "needs_background": "light"
     },
     "output_type": "display_data"
    }
   ],
   "source": [
    "plt.figure(figsize = (14,6))\n",
    "sns.histplot(data = activities, x = \"Avg HR\").set(title=\"Average HR repartition\")\n",
    "\n",
    "# Most probable value during the run would be around 160 BPM."
   ]
  },
  {
   "cell_type": "code",
   "execution_count": 43,
   "id": "1bb8c8ff",
   "metadata": {},
   "outputs": [
    {
     "name": "stdout",
     "output_type": "stream",
     "text": [
      "The correlation coefficient between cadence and speed: -0.16518034199089895\n"
     ]
    },
    {
     "data": {
      "image/png": "[encoded data removed]",
      "text/plain": [
       "<Figure size 432x432 with 3 Axes>"
      ]
     },
     "metadata": {
      "needs_background": "light"
     },
     "output_type": "display_data"
    }
   ],
   "source": [
    "sns.jointplot(x='Avg Speed',y='Avg Run Cadence', data=activities.dropna(),kind='scatter')\n",
    "print(\"The correlation coefficient between cadence and speed:\", activities['Avg Speed'].corr(activities['Avg Run Cadence']))"
   ]
  },
  {
   "cell_type": "code",
   "execution_count": 44,
   "id": "c2389c3a",
   "metadata": {},
   "outputs": [
    {
     "name": "stdout",
     "output_type": "stream",
     "text": [
      "The correlation coefficient between Stride Length and speed: 0.9589733882530974\n"
     ]
    },
    {
     "data": {
      "image/png": "[encoded data removed]",
      "text/plain": [
       "<Figure size 432x432 with 3 Axes>"
      ]
     },
     "metadata": {
      "needs_background": "light"
     },
     "output_type": "display_data"
    }
   ],
   "source": [
    "sns.jointplot(x='Avg Speed',y='Avg Stride Length', data=activities.dropna(),kind='scatter')\n",
    "print(\"The correlation coefficient between Stride Length and speed:\", activities['Avg Speed'].corr(activities['Avg Stride Length']))"
   ]
  },
  {
   "cell_type": "code",
   "execution_count": 45,
   "id": "ba9b5b91",
   "metadata": {},
   "outputs": [
    {
     "name": "stdout",
     "output_type": "stream",
     "text": [
      "The correlation coefficient between Stride Length and Run Cadence: -0.43258184475398753\n"
     ]
    },
    {
     "data": {
      "image/png": "[encoded data removed]",
      "text/plain": [
       "<Figure size 432x432 with 3 Axes>"
      ]
     },
     "metadata": {
      "needs_background": "light"
     },
     "output_type": "display_data"
    }
   ],
   "source": [
    "sns.jointplot(x='Avg Run Cadence',y='Avg Stride Length', data=activities.dropna(),kind='scatter')\n",
    "print(\"The correlation coefficient between Stride Length and Run Cadence:\", activities['Avg Run Cadence'].corr(activities['Avg Stride Length']))"
   ]
  },
  {
   "cell_type": "code",
   "execution_count": 46,
   "id": "8debc21d",
   "metadata": {},
   "outputs": [
    {
     "data": {
      "text/plain": [
       "[Text(0.5, 1.0, 'Avg Speed by Month')]"
      ]
     },
     "execution_count": 46,
     "metadata": {},
     "output_type": "execute_result"
    },
    {
     "data": {
      "image/png": "[encoded data removed]",
      "text/plain": [
       "<Figure size 1440x576 with 1 Axes>"
      ]
     },
     "metadata": {
      "needs_background": "light"
     },
     "output_type": "display_data"
    }
   ],
   "source": [
    "plt.figure(figsize=(20,8))\n",
    "\n",
    "#add extra column with month for every running session\n",
    "activities['Month'] = activities['Date'].dt.strftime('%b') + \" \" + activities['Date'].dt.strftime('%Y')\n",
    "#sort datataset by date in ascending order\n",
    "activities.sort_values(by='Date', inplace=True)\n",
    "#plot boxplots grouped by month\n",
    "sns.boxplot(x='Month',y='Avg Speed', palette=[\"m\", \"g\"], data=activities.dropna()).set(title = 'Avg Speed by Month')"
   ]
  },
  {
   "cell_type": "code",
   "execution_count": 47,
   "id": "aeb02217",
   "metadata": {},
   "outputs": [],
   "source": [
    "## Divide the Heart Rate Zones from the data into Zones and create a new column\n",
    "# < 114 - Very Light\n",
    "# 114-133 - Light\n",
    "# 133-152 - Moderate\n",
    "# 152-171 - Hard\n",
    "# >171 - Very Hard\n",
    "## do using lambda: apply a function\n",
    "\n",
    "def get_hr_zones(avgHR):\n",
    "    if avgHR < 114:\n",
    "        return \"Very Light\"\n",
    "    elif avgHR >= 114 and avgHR < 133:\n",
    "        return \"Light\"\n",
    "    elif avgHR >= 133 and avgHR < 152:\n",
    "        return \"Moderate\"\n",
    "    elif avgHR >= 152 and avgHR < 171:\n",
    "        return \"Hard\"\n",
    "    else:\n",
    "        return \"Very Hard\""
   ]
  },
  {
   "cell_type": "code",
   "execution_count": 48,
   "id": "bb6fbfc1",
   "metadata": {},
   "outputs": [],
   "source": [
    "activities[\"activityLevel\"] = activities[\"Avg HR\"].apply(get_hr_zones)"
   ]
  },
  {
   "cell_type": "code",
   "execution_count": 49,
   "id": "cf47c99b",
   "metadata": {},
   "outputs": [
    {
     "data": {
      "image/png": "[encoded data removed]",
      "text/plain": [
       "<Figure size 864x360 with 3 Axes>"
      ]
     },
     "metadata": {
      "needs_background": "light"
     },
     "output_type": "display_data"
    }
   ],
   "source": [
    "cols_var = [\"activityMonthName\", \"activityDayName\", \"activityLevel\"]\n",
    "\n",
    "# Count plots of categorical variables\n",
    "\n",
    "fig, axes = plt.subplots(1, 3, figsize=(12, 5))\n",
    "plt.subplots_adjust(left=None, bottom=None, right=None, top=None, wspace=0.7, hspace=0.3)\n",
    "\n",
    "for i, ax in enumerate(axes.ravel()):\n",
    "    if i > 3:\n",
    "        ax.set_visible(False)\n",
    "        continue\n",
    "    sns.countplot(y = cols_var[i], data=activities, ax=ax)"
   ]
  },
  {
   "cell_type": "code",
   "execution_count": null,
   "id": "16fe1a73",
   "metadata": {},
   "outputs": [],
   "source": []
  },
  {
   "cell_type": "code",
   "execution_count": 50,
   "id": "4737e120",
   "metadata": {},
   "outputs": [],
   "source": [
    "#save into a csv\n",
    "activities.to_csv(\"RUNNING.csv\", sep=\";\", index=False, header=True)"
   ]
  },
  {
   "cell_type": "markdown",
   "id": "f56114f2",
   "metadata": {},
   "source": [
    "## floors, steps, sleeps : cleaning"
   ]
  },
  {
   "cell_type": "code",
   "execution_count": 51,
   "id": "23b427c2",
   "metadata": {},
   "outputs": [],
   "source": [
    "floors = pd.read_csv(\"Floors.csv\")"
   ]
  },
  {
   "cell_type": "code",
   "execution_count": 52,
   "id": "7c838f17",
   "metadata": {},
   "outputs": [
    {
     "data": {
      "text/html": [
       "<div>\n",
       "<style scoped>\n",
       "    .dataframe tbody tr th:only-of-type {\n",
       "        vertical-align: middle;\n",
       "    }\n",
       "\n",
       "    .dataframe tbody tr th {\n",
       "        vertical-align: top;\n",
       "    }\n",
       "\n",
       "    .dataframe thead th {\n",
       "        text-align: right;\n",
       "    }\n",
       "</style>\n",
       "<table border=\"1\" class=\"dataframe\">\n",
       "  <thead>\n",
       "    <tr style=\"text-align: right;\">\n",
       "      <th></th>\n",
       "      <th>Floors Climbed</th>\n",
       "      <th>Floors Climbed.1</th>\n",
       "      <th>Goal</th>\n",
       "      <th>Floors Descended</th>\n",
       "      <th>year</th>\n",
       "    </tr>\n",
       "  </thead>\n",
       "  <tbody>\n",
       "    <tr>\n",
       "      <th>0</th>\n",
       "      <td>Jan</td>\n",
       "      <td>0</td>\n",
       "      <td>0</td>\n",
       "      <td>0</td>\n",
       "      <td>2019</td>\n",
       "    </tr>\n",
       "    <tr>\n",
       "      <th>1</th>\n",
       "      <td>Feb</td>\n",
       "      <td>77</td>\n",
       "      <td>40</td>\n",
       "      <td>119</td>\n",
       "      <td>2019</td>\n",
       "    </tr>\n",
       "    <tr>\n",
       "      <th>2</th>\n",
       "      <td>Mar</td>\n",
       "      <td>343</td>\n",
       "      <td>180</td>\n",
       "      <td>473</td>\n",
       "      <td>2019</td>\n",
       "    </tr>\n",
       "    <tr>\n",
       "      <th>3</th>\n",
       "      <td>Apr</td>\n",
       "      <td>440</td>\n",
       "      <td>300</td>\n",
       "      <td>483</td>\n",
       "      <td>2019</td>\n",
       "    </tr>\n",
       "    <tr>\n",
       "      <th>4</th>\n",
       "      <td>May</td>\n",
       "      <td>587</td>\n",
       "      <td>310</td>\n",
       "      <td>618</td>\n",
       "      <td>2019</td>\n",
       "    </tr>\n",
       "  </tbody>\n",
       "</table>\n",
       "</div>"
      ],
      "text/plain": [
       "  Floors Climbed  Floors Climbed.1  Goal  Floors Descended  year\n",
       "0            Jan                 0     0                 0  2019\n",
       "1            Feb                77    40               119  2019\n",
       "2            Mar               343   180               473  2019\n",
       "3            Apr               440   300               483  2019\n",
       "4            May               587   310               618  2019"
      ]
     },
     "execution_count": 52,
     "metadata": {},
     "output_type": "execute_result"
    }
   ],
   "source": [
    "floors.head()"
   ]
  },
  {
   "cell_type": "code",
   "execution_count": 53,
   "id": "ef4958c8",
   "metadata": {},
   "outputs": [],
   "source": [
    "floors[\"month\"] = pd.to_datetime(floors[\"Floors Climbed\"], format = '%b').dt.month\n",
    "floors[\"month\"] = floors.month.map(\"{:02}\".format)\n",
    "\n",
    "floors[\"year\"] = floors[\"year\"].apply(str)"
   ]
  },
  {
   "cell_type": "code",
   "execution_count": 54,
   "id": "8b125fa4",
   "metadata": {},
   "outputs": [],
   "source": [
    "floors[\"mm-yyyy\"] = floors[\"year\"] + \"-\" + floors[\"month\"]"
   ]
  },
  {
   "cell_type": "code",
   "execution_count": 55,
   "id": "5c1d5e79",
   "metadata": {},
   "outputs": [],
   "source": [
    "floors[\"Floors Climbed1\"] = floors[\"Floors Climbed.1\"]\n",
    "#floors.drop([\"Floors Climbed.1\"], axis=1, inplace=True)"
   ]
  },
  {
   "cell_type": "code",
   "execution_count": 56,
   "id": "b9d17d74",
   "metadata": {},
   "outputs": [
    {
     "name": "stdout",
     "output_type": "stream",
     "text": [
      "<class 'pandas.core.frame.DataFrame'>\n",
      "RangeIndex: 35 entries, 0 to 34\n",
      "Data columns (total 8 columns):\n",
      " #   Column            Non-Null Count  Dtype \n",
      "---  ------            --------------  ----- \n",
      " 0   Floors Climbed    35 non-null     object\n",
      " 1   Floors Climbed.1  35 non-null     int64 \n",
      " 2   Goal              35 non-null     int64 \n",
      " 3   Floors Descended  35 non-null     int64 \n",
      " 4   year              35 non-null     object\n",
      " 5   month             35 non-null     object\n",
      " 6   mm-yyyy           35 non-null     object\n",
      " 7   Floors Climbed1   35 non-null     int64 \n",
      "dtypes: int64(4), object(4)\n",
      "memory usage: 2.3+ KB\n"
     ]
    }
   ],
   "source": [
    "floors.info()"
   ]
  },
  {
   "cell_type": "code",
   "execution_count": 57,
   "id": "b4500d2c",
   "metadata": {},
   "outputs": [
    {
     "data": {
      "text/html": [
       "<div>\n",
       "<style scoped>\n",
       "    .dataframe tbody tr th:only-of-type {\n",
       "        vertical-align: middle;\n",
       "    }\n",
       "\n",
       "    .dataframe tbody tr th {\n",
       "        vertical-align: top;\n",
       "    }\n",
       "\n",
       "    .dataframe thead th {\n",
       "        text-align: right;\n",
       "    }\n",
       "</style>\n",
       "<table border=\"1\" class=\"dataframe\">\n",
       "  <thead>\n",
       "    <tr style=\"text-align: right;\">\n",
       "      <th></th>\n",
       "      <th>Floors Climbed</th>\n",
       "      <th>Floors Climbed.1</th>\n",
       "      <th>Goal</th>\n",
       "      <th>Floors Descended</th>\n",
       "      <th>year</th>\n",
       "      <th>month</th>\n",
       "      <th>mm-yyyy</th>\n",
       "      <th>Floors Climbed1</th>\n",
       "    </tr>\n",
       "  </thead>\n",
       "  <tbody>\n",
       "    <tr>\n",
       "      <th>0</th>\n",
       "      <td>Jan</td>\n",
       "      <td>0</td>\n",
       "      <td>0</td>\n",
       "      <td>0</td>\n",
       "      <td>2019</td>\n",
       "      <td>01</td>\n",
       "      <td>2019-01</td>\n",
       "      <td>0</td>\n",
       "    </tr>\n",
       "    <tr>\n",
       "      <th>1</th>\n",
       "      <td>Feb</td>\n",
       "      <td>77</td>\n",
       "      <td>40</td>\n",
       "      <td>119</td>\n",
       "      <td>2019</td>\n",
       "      <td>02</td>\n",
       "      <td>2019-02</td>\n",
       "      <td>77</td>\n",
       "    </tr>\n",
       "    <tr>\n",
       "      <th>2</th>\n",
       "      <td>Mar</td>\n",
       "      <td>343</td>\n",
       "      <td>180</td>\n",
       "      <td>473</td>\n",
       "      <td>2019</td>\n",
       "      <td>03</td>\n",
       "      <td>2019-03</td>\n",
       "      <td>343</td>\n",
       "    </tr>\n",
       "    <tr>\n",
       "      <th>3</th>\n",
       "      <td>Apr</td>\n",
       "      <td>440</td>\n",
       "      <td>300</td>\n",
       "      <td>483</td>\n",
       "      <td>2019</td>\n",
       "      <td>04</td>\n",
       "      <td>2019-04</td>\n",
       "      <td>440</td>\n",
       "    </tr>\n",
       "    <tr>\n",
       "      <th>4</th>\n",
       "      <td>May</td>\n",
       "      <td>587</td>\n",
       "      <td>310</td>\n",
       "      <td>618</td>\n",
       "      <td>2019</td>\n",
       "      <td>05</td>\n",
       "      <td>2019-05</td>\n",
       "      <td>587</td>\n",
       "    </tr>\n",
       "  </tbody>\n",
       "</table>\n",
       "</div>"
      ],
      "text/plain": [
       "  Floors Climbed  Floors Climbed.1  Goal  Floors Descended  year month  \\\n",
       "0            Jan                 0     0                 0  2019    01   \n",
       "1            Feb                77    40               119  2019    02   \n",
       "2            Mar               343   180               473  2019    03   \n",
       "3            Apr               440   300               483  2019    04   \n",
       "4            May               587   310               618  2019    05   \n",
       "\n",
       "   mm-yyyy  Floors Climbed1  \n",
       "0  2019-01                0  \n",
       "1  2019-02               77  \n",
       "2  2019-03              343  \n",
       "3  2019-04              440  \n",
       "4  2019-05              587  "
      ]
     },
     "execution_count": 57,
     "metadata": {},
     "output_type": "execute_result"
    }
   ],
   "source": [
    "floors.head()"
   ]
  },
  {
   "cell_type": "code",
   "execution_count": 58,
   "id": "83d07ed7",
   "metadata": {},
   "outputs": [],
   "source": [
    "floors[\"Floors Descended\"] = -abs(floors[\"Floors Descended\"])"
   ]
  },
  {
   "cell_type": "code",
   "execution_count": 59,
   "id": "50a9e5e3",
   "metadata": {},
   "outputs": [
    {
     "data": {
      "text/plain": [
       "365.4"
      ]
     },
     "execution_count": 59,
     "metadata": {},
     "output_type": "execute_result"
    }
   ],
   "source": [
    "floors[\"Floors Climbed1\"].sum() / floors.shape[0]"
   ]
  },
  {
   "cell_type": "code",
   "execution_count": null,
   "id": "4e919a51",
   "metadata": {},
   "outputs": [],
   "source": []
  },
  {
   "cell_type": "code",
   "execution_count": 60,
   "id": "9ce77321",
   "metadata": {},
   "outputs": [
    {
     "data": {
      "text/plain": [
       "<BarContainer object of 35 artists>"
      ]
     },
     "execution_count": 60,
     "metadata": {},
     "output_type": "execute_result"
    },
    {
     "data": {
      "image/png": "[encoded data removed]",
      "text/plain": [
       "<Figure size 1440x432 with 1 Axes>"
      ]
     },
     "metadata": {
      "needs_background": "light"
     },
     "output_type": "display_data"
    }
   ],
   "source": [
    "# http://cs-tklab.na-inet.jp/~tkouya/python/scipy-lectures/intro/matplotlib/auto_examples/plot_bar_ex.html\n",
    "\n",
    "neg = floors[\"Floors Descended\"].tolist()\n",
    "pos = floors[\"Floors Climbed1\"].tolist()\n",
    "dd = floors[\"mm-yyyy\"].tolist()\n",
    "\n",
    "fig = plt.figure(figsize = (20,6))\n",
    "#ax = plt.subplot(111)\n",
    "#ax.bar(dd, neg, width=2, color='r')\n",
    "#ax.bar(dd, pos, width=1, color='b')\n",
    "\n",
    "plt.bar(dd, neg, facecolor='#9999ff', edgecolor='black')\n",
    "plt.bar(dd, pos, facecolor='#ff9999', edgecolor='black')\n"
   ]
  },
  {
   "cell_type": "code",
   "execution_count": 61,
   "id": "edab8d25",
   "metadata": {},
   "outputs": [],
   "source": [
    "floors.to_csv(\"Floors.csv\", index=False)"
   ]
  },
  {
   "cell_type": "markdown",
   "id": "f4f21069",
   "metadata": {},
   "source": [
    "## steps"
   ]
  },
  {
   "cell_type": "code",
   "execution_count": 62,
   "id": "75debeb1",
   "metadata": {},
   "outputs": [],
   "source": [
    "steps = pd.read_csv(\"Steps.csv\")"
   ]
  },
  {
   "cell_type": "code",
   "execution_count": 63,
   "id": "4e0d65a6",
   "metadata": {},
   "outputs": [
    {
     "data": {
      "text/html": [
       "<div>\n",
       "<style scoped>\n",
       "    .dataframe tbody tr th:only-of-type {\n",
       "        vertical-align: middle;\n",
       "    }\n",
       "\n",
       "    .dataframe tbody tr th {\n",
       "        vertical-align: top;\n",
       "    }\n",
       "\n",
       "    .dataframe thead th {\n",
       "        text-align: right;\n",
       "    }\n",
       "</style>\n",
       "<table border=\"1\" class=\"dataframe\">\n",
       "  <thead>\n",
       "    <tr style=\"text-align: right;\">\n",
       "      <th></th>\n",
       "      <th>Steps</th>\n",
       "      <th>Actual</th>\n",
       "      <th>Goal</th>\n",
       "      <th>year</th>\n",
       "    </tr>\n",
       "  </thead>\n",
       "  <tbody>\n",
       "    <tr>\n",
       "      <th>0</th>\n",
       "      <td>Jan</td>\n",
       "      <td>0</td>\n",
       "      <td>0</td>\n",
       "      <td>2019</td>\n",
       "    </tr>\n",
       "    <tr>\n",
       "      <th>1</th>\n",
       "      <td>Feb</td>\n",
       "      <td>39439</td>\n",
       "      <td>48010</td>\n",
       "      <td>2019</td>\n",
       "    </tr>\n",
       "    <tr>\n",
       "      <th>2</th>\n",
       "      <td>Mar</td>\n",
       "      <td>283668</td>\n",
       "      <td>247410</td>\n",
       "      <td>2019</td>\n",
       "    </tr>\n",
       "    <tr>\n",
       "      <th>3</th>\n",
       "      <td>Apr</td>\n",
       "      <td>385926</td>\n",
       "      <td>426420</td>\n",
       "      <td>2019</td>\n",
       "    </tr>\n",
       "    <tr>\n",
       "      <th>4</th>\n",
       "      <td>May</td>\n",
       "      <td>591441</td>\n",
       "      <td>518500</td>\n",
       "      <td>2019</td>\n",
       "    </tr>\n",
       "  </tbody>\n",
       "</table>\n",
       "</div>"
      ],
      "text/plain": [
       "  Steps  Actual    Goal  year\n",
       "0   Jan       0       0  2019\n",
       "1   Feb   39439   48010  2019\n",
       "2   Mar  283668  247410  2019\n",
       "3   Apr  385926  426420  2019\n",
       "4   May  591441  518500  2019"
      ]
     },
     "execution_count": 63,
     "metadata": {},
     "output_type": "execute_result"
    }
   ],
   "source": [
    "steps.head()"
   ]
  },
  {
   "cell_type": "code",
   "execution_count": 64,
   "id": "5e112695",
   "metadata": {},
   "outputs": [],
   "source": [
    "steps[\"month\"] = pd.to_datetime(steps[\"Steps\"], format = '%b').dt.month\n",
    "steps[\"month\"] = steps.month.map(\"{:02}\".format)\n",
    "\n",
    "steps[\"year\"] = steps[\"year\"].apply(str)"
   ]
  },
  {
   "cell_type": "code",
   "execution_count": 65,
   "id": "d51c5e5f",
   "metadata": {},
   "outputs": [],
   "source": [
    "steps[\"mm-yyyy\"] = steps[\"year\"] + \"-\" + steps[\"month\"]"
   ]
  },
  {
   "cell_type": "code",
   "execution_count": 66,
   "id": "d03ee8bf",
   "metadata": {},
   "outputs": [
    {
     "name": "stdout",
     "output_type": "stream",
     "text": [
      "<class 'pandas.core.frame.DataFrame'>\n",
      "RangeIndex: 35 entries, 0 to 34\n",
      "Data columns (total 6 columns):\n",
      " #   Column   Non-Null Count  Dtype \n",
      "---  ------   --------------  ----- \n",
      " 0   Steps    35 non-null     object\n",
      " 1   Actual   35 non-null     int64 \n",
      " 2   Goal     35 non-null     int64 \n",
      " 3   year     35 non-null     object\n",
      " 4   month    35 non-null     object\n",
      " 5   mm-yyyy  35 non-null     object\n",
      "dtypes: int64(2), object(4)\n",
      "memory usage: 1.8+ KB\n"
     ]
    }
   ],
   "source": [
    "steps.info()"
   ]
  },
  {
   "cell_type": "code",
   "execution_count": 67,
   "id": "dade1b24",
   "metadata": {},
   "outputs": [
    {
     "data": {
      "text/html": [
       "<div>\n",
       "<style scoped>\n",
       "    .dataframe tbody tr th:only-of-type {\n",
       "        vertical-align: middle;\n",
       "    }\n",
       "\n",
       "    .dataframe tbody tr th {\n",
       "        vertical-align: top;\n",
       "    }\n",
       "\n",
       "    .dataframe thead th {\n",
       "        text-align: right;\n",
       "    }\n",
       "</style>\n",
       "<table border=\"1\" class=\"dataframe\">\n",
       "  <thead>\n",
       "    <tr style=\"text-align: right;\">\n",
       "      <th></th>\n",
       "      <th>Steps</th>\n",
       "      <th>Actual</th>\n",
       "      <th>Goal</th>\n",
       "      <th>year</th>\n",
       "      <th>month</th>\n",
       "      <th>mm-yyyy</th>\n",
       "    </tr>\n",
       "  </thead>\n",
       "  <tbody>\n",
       "    <tr>\n",
       "      <th>0</th>\n",
       "      <td>Jan</td>\n",
       "      <td>0</td>\n",
       "      <td>0</td>\n",
       "      <td>2019</td>\n",
       "      <td>01</td>\n",
       "      <td>2019-01</td>\n",
       "    </tr>\n",
       "    <tr>\n",
       "      <th>1</th>\n",
       "      <td>Feb</td>\n",
       "      <td>39439</td>\n",
       "      <td>48010</td>\n",
       "      <td>2019</td>\n",
       "      <td>02</td>\n",
       "      <td>2019-02</td>\n",
       "    </tr>\n",
       "    <tr>\n",
       "      <th>2</th>\n",
       "      <td>Mar</td>\n",
       "      <td>283668</td>\n",
       "      <td>247410</td>\n",
       "      <td>2019</td>\n",
       "      <td>03</td>\n",
       "      <td>2019-03</td>\n",
       "    </tr>\n",
       "    <tr>\n",
       "      <th>3</th>\n",
       "      <td>Apr</td>\n",
       "      <td>385926</td>\n",
       "      <td>426420</td>\n",
       "      <td>2019</td>\n",
       "      <td>04</td>\n",
       "      <td>2019-04</td>\n",
       "    </tr>\n",
       "    <tr>\n",
       "      <th>4</th>\n",
       "      <td>May</td>\n",
       "      <td>591441</td>\n",
       "      <td>518500</td>\n",
       "      <td>2019</td>\n",
       "      <td>05</td>\n",
       "      <td>2019-05</td>\n",
       "    </tr>\n",
       "  </tbody>\n",
       "</table>\n",
       "</div>"
      ],
      "text/plain": [
       "  Steps  Actual    Goal  year month  mm-yyyy\n",
       "0   Jan       0       0  2019    01  2019-01\n",
       "1   Feb   39439   48010  2019    02  2019-02\n",
       "2   Mar  283668  247410  2019    03  2019-03\n",
       "3   Apr  385926  426420  2019    04  2019-04\n",
       "4   May  591441  518500  2019    05  2019-05"
      ]
     },
     "execution_count": 67,
     "metadata": {},
     "output_type": "execute_result"
    }
   ],
   "source": [
    "steps.head()"
   ]
  },
  {
   "cell_type": "code",
   "execution_count": 68,
   "id": "21fafb20",
   "metadata": {},
   "outputs": [
    {
     "data": {
      "text/plain": [
       "[4740786, 4413648, 2031574]"
      ]
     },
     "execution_count": 68,
     "metadata": {},
     "output_type": "execute_result"
    }
   ],
   "source": [
    "steps.groupby(['year'])[\"Actual\"].sum().tolist()"
   ]
  },
  {
   "cell_type": "code",
   "execution_count": null,
   "id": "01175c58",
   "metadata": {},
   "outputs": [],
   "source": []
  },
  {
   "cell_type": "code",
   "execution_count": 69,
   "id": "a3e9c2f5",
   "metadata": {},
   "outputs": [
    {
     "data": {
      "text/plain": [
       "<AxesSubplot:ylabel='Actual'>"
      ]
     },
     "execution_count": 69,
     "metadata": {},
     "output_type": "execute_result"
    },
    {
     "data": {
      "image/png": "[encoded data removed]",
      "text/plain": [
       "<Figure size 432x288 with 1 Axes>"
      ]
     },
     "metadata": {},
     "output_type": "display_data"
    }
   ],
   "source": [
    "steps.groupby(['year']).sum().plot(kind='pie', y='Actual')"
   ]
  },
  {
   "cell_type": "code",
   "execution_count": 70,
   "id": "f9edbc08",
   "metadata": {},
   "outputs": [],
   "source": [
    "steps.to_csv(\"Steps.csv\", index=False)"
   ]
  },
  {
   "cell_type": "markdown",
   "id": "9a7d66f5",
   "metadata": {},
   "source": [
    "## sleeps"
   ]
  },
  {
   "cell_type": "code",
   "execution_count": 71,
   "id": "962423d7",
   "metadata": {},
   "outputs": [],
   "source": [
    "sleep = pd.read_csv(\"Sleep.csv\")"
   ]
  },
  {
   "cell_type": "code",
   "execution_count": 72,
   "id": "7d0d19f3",
   "metadata": {},
   "outputs": [
    {
     "data": {
      "text/html": [
       "<div>\n",
       "<style scoped>\n",
       "    .dataframe tbody tr th:only-of-type {\n",
       "        vertical-align: middle;\n",
       "    }\n",
       "\n",
       "    .dataframe tbody tr th {\n",
       "        vertical-align: top;\n",
       "    }\n",
       "\n",
       "    .dataframe thead th {\n",
       "        text-align: right;\n",
       "    }\n",
       "</style>\n",
       "<table border=\"1\" class=\"dataframe\">\n",
       "  <thead>\n",
       "    <tr style=\"text-align: right;\">\n",
       "      <th></th>\n",
       "      <th>Sleep Time</th>\n",
       "      <th>Hrs</th>\n",
       "      <th>Hrs.1</th>\n",
       "      <th>year</th>\n",
       "    </tr>\n",
       "  </thead>\n",
       "  <tbody>\n",
       "    <tr>\n",
       "      <th>0</th>\n",
       "      <td>Feb 24</td>\n",
       "      <td>7.7</td>\n",
       "      <td>7:43 hrs</td>\n",
       "      <td>2019</td>\n",
       "    </tr>\n",
       "    <tr>\n",
       "      <th>1</th>\n",
       "      <td>Mar 3</td>\n",
       "      <td>8.6</td>\n",
       "      <td>8:35 hrs</td>\n",
       "      <td>2019</td>\n",
       "    </tr>\n",
       "    <tr>\n",
       "      <th>2</th>\n",
       "      <td>Mar 10</td>\n",
       "      <td>8.5</td>\n",
       "      <td>8:30 hrs</td>\n",
       "      <td>2019</td>\n",
       "    </tr>\n",
       "    <tr>\n",
       "      <th>3</th>\n",
       "      <td>Mar 24</td>\n",
       "      <td>7.4</td>\n",
       "      <td>7:25 hrs</td>\n",
       "      <td>2019</td>\n",
       "    </tr>\n",
       "    <tr>\n",
       "      <th>4</th>\n",
       "      <td>Mar 31</td>\n",
       "      <td>7.5</td>\n",
       "      <td>7:29 hrs</td>\n",
       "      <td>2019</td>\n",
       "    </tr>\n",
       "  </tbody>\n",
       "</table>\n",
       "</div>"
      ],
      "text/plain": [
       "  Sleep Time  Hrs     Hrs.1  year\n",
       "0     Feb 24  7.7  7:43 hrs  2019\n",
       "1      Mar 3  8.6  8:35 hrs  2019\n",
       "2     Mar 10  8.5  8:30 hrs  2019\n",
       "3     Mar 24  7.4  7:25 hrs  2019\n",
       "4     Mar 31  7.5  7:29 hrs  2019"
      ]
     },
     "execution_count": 72,
     "metadata": {},
     "output_type": "execute_result"
    }
   ],
   "source": [
    "sleep.head()"
   ]
  },
  {
   "cell_type": "code",
   "execution_count": 73,
   "id": "16bce5dc",
   "metadata": {},
   "outputs": [
    {
     "name": "stdout",
     "output_type": "stream",
     "text": [
      "<class 'pandas.core.frame.DataFrame'>\n",
      "RangeIndex: 128 entries, 0 to 127\n",
      "Data columns (total 4 columns):\n",
      " #   Column      Non-Null Count  Dtype  \n",
      "---  ------      --------------  -----  \n",
      " 0   Sleep Time  128 non-null    object \n",
      " 1   Hrs         128 non-null    float64\n",
      " 2   Hrs.1       128 non-null    object \n",
      " 3   year        128 non-null    int64  \n",
      "dtypes: float64(1), int64(1), object(2)\n",
      "memory usage: 4.1+ KB\n"
     ]
    }
   ],
   "source": [
    "sleep.info()"
   ]
  },
  {
   "cell_type": "code",
   "execution_count": 74,
   "id": "00a038ae",
   "metadata": {},
   "outputs": [],
   "source": [
    "sleep[\"year\"] = sleep[\"year\"].apply(str)"
   ]
  },
  {
   "cell_type": "code",
   "execution_count": 75,
   "id": "89e614d7",
   "metadata": {},
   "outputs": [
    {
     "data": {
      "text/plain": [
       "8.5"
      ]
     },
     "execution_count": 75,
     "metadata": {},
     "output_type": "execute_result"
    }
   ],
   "source": [
    "sleep[\"Hrs\"].median()"
   ]
  },
  {
   "cell_type": "code",
   "execution_count": null,
   "id": "b5b2584f",
   "metadata": {},
   "outputs": [],
   "source": []
  },
  {
   "cell_type": "code",
   "execution_count": null,
   "id": "b8508905",
   "metadata": {},
   "outputs": [],
   "source": []
  },
  {
   "cell_type": "code",
   "execution_count": 76,
   "id": "846a82dd",
   "metadata": {},
   "outputs": [],
   "source": [
    "sleeps.to_csv(\"Sleep.csv\", index=False)"
   ]
  }
 ],
 "metadata": {
  "kernelspec": {
   "display_name": "Python 3",
   "language": "python",
   "name": "python3"
  },
  "language_info": {
   "codemirror_mode": {
    "name": "ipython",
    "version": 3
   },
   "file_extension": ".py",
   "mimetype": "text/x-python",
   "name": "python",
   "nbconvert_exporter": "python",
   "pygments_lexer": "ipython3",
   "version": "3.8.8"
  }
 },
 "nbformat": 4,
 "nbformat_minor": 5
}
